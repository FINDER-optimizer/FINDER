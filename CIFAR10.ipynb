{
  "cells": [
    {
      "cell_type": "markdown",
      "id": "fa2f6a92-33d0-46b6-bbdd-ed3139ddc2d5",
      "metadata": {
        "id": "fa2f6a92-33d0-46b6-bbdd-ed3139ddc2d5"
      },
      "source": [
        "# piecewise"
      ]
    },
    {
      "cell_type": "markdown",
      "id": "2f742c33-de4b-46a0-80f8-73e08a58c643",
      "metadata": {
        "id": "2f742c33-de4b-46a0-80f8-73e08a58c643"
      },
      "source": [
        "## imports and device"
      ]
    },
    {
      "cell_type": "code",
      "execution_count": null,
      "id": "de5aec6e-9a68-4142-baca-444bec924d5a",
      "metadata": {
        "colab": {
          "base_uri": "https://localhost:8080/"
        },
        "id": "de5aec6e-9a68-4142-baca-444bec924d5a",
        "outputId": "50449172-b6c9-41e5-cecf-728aa79ce288"
      },
      "outputs": [
        {
          "output_type": "stream",
          "name": "stdout",
          "text": [
            "Using cuda device for FINDER\n"
          ]
        }
      ],
      "source": [
        "import torch\n",
        "import torchvision\n",
        "import torchvision.transforms as transforms\n",
        "import torch.nn as nn\n",
        "import torch.optim as optim\n",
        "import math\n",
        "import torch.nn.functional as F\n",
        "import pickle\n",
        "import time\n",
        "import matplotlib.pyplot as plt\n",
        "import FINDER_core"
      ]
    },
    {
      "cell_type": "code",
      "execution_count": null,
      "id": "54386528-64a1-4ac2-8e1c-dc70c174d80b",
      "metadata": {
        "id": "54386528-64a1-4ac2-8e1c-dc70c174d80b"
      },
      "outputs": [],
      "source": [
        "classes = ('plane', 'car', 'bird', 'cat',\n",
        "           'deer', 'dog', 'frog', 'horse', 'ship', 'truck')"
      ]
    },
    {
      "cell_type": "code",
      "execution_count": null,
      "id": "93b1d970-c569-45aa-8579-01c9f09983e3",
      "metadata": {
        "colab": {
          "base_uri": "https://localhost:8080/"
        },
        "id": "93b1d970-c569-45aa-8579-01c9f09983e3",
        "outputId": "56a3a2ff-73c1-48a3-bc93-79415a66b3fb"
      },
      "outputs": [
        {
          "output_type": "stream",
          "name": "stdout",
          "text": [
            "Using cuda device\n"
          ]
        }
      ],
      "source": [
        "device = (\"cuda\" if torch.cuda.is_available() else \"cpu\")\n",
        "print(f\"Using {device} device\")"
      ]
    },
    {
      "cell_type": "markdown",
      "id": "671f535f-1f6f-4334-a8c3-9e3e7c9082fa",
      "metadata": {
        "id": "671f535f-1f6f-4334-a8c3-9e3e7c9082fa"
      },
      "source": [
        "## dataset CIFAR10"
      ]
    },
    {
      "cell_type": "code",
      "execution_count": null,
      "id": "c4983b84-7acc-4082-aeaf-b6b6778bbf5c",
      "metadata": {
        "id": "c4983b84-7acc-4082-aeaf-b6b6778bbf5c"
      },
      "outputs": [],
      "source": [
        "# Define transformations to apply to the data\n",
        "transform = transforms.Compose([\n",
        "    transforms.ToTensor(),\n",
        "    transforms.Normalize((0.5, 0.5, 0.5), (0.5, 0.5, 0.5))\n",
        "])"
      ]
    },
    {
      "cell_type": "code",
      "execution_count": null,
      "id": "3958701a-d51e-4237-a81e-e575b18af2bd",
      "metadata": {
        "colab": {
          "base_uri": "https://localhost:8080/"
        },
        "id": "3958701a-d51e-4237-a81e-e575b18af2bd",
        "outputId": "92ec4d7d-186c-4475-a807-2b09d604c39b"
      },
      "outputs": [
        {
          "output_type": "stream",
          "name": "stdout",
          "text": [
            "Downloading https://www.cs.toronto.edu/~kriz/cifar-10-python.tar.gz to ./data/cifar-10-python.tar.gz\n"
          ]
        },
        {
          "output_type": "stream",
          "name": "stderr",
          "text": [
            "100%|██████████| 170498071/170498071 [00:18<00:00, 9180314.17it/s]\n"
          ]
        },
        {
          "output_type": "stream",
          "name": "stdout",
          "text": [
            "Extracting ./data/cifar-10-python.tar.gz to ./data\n",
            "Files already downloaded and verified\n"
          ]
        }
      ],
      "source": [
        "# Load CIFAR-10 dataset\n",
        "trainset = torchvision.datasets.CIFAR10(root='./data', train=True,\n",
        "                                        download=True, transform=transform)\n",
        "\n",
        "testset = torchvision.datasets.CIFAR10(root='./data', train=False,\n",
        "                                       download=True, transform=transform)\n",
        "\n",
        "\n",
        "full_batch_size = len(trainset)\n",
        "trainloader = torch.utils.data.DataLoader(trainset, batch_size=full_batch_size,\n",
        "                                          shuffle=True, num_workers=2)\n",
        "\n",
        "testloader = torch.utils.data.DataLoader(testset, batch_size=full_batch_size,\n",
        "                                         shuffle=False, num_workers=2)\n"
      ]
    },
    {
      "cell_type": "markdown",
      "id": "544dbd08-cea2-401c-8b88-69a007660c8c",
      "metadata": {
        "id": "544dbd08-cea2-401c-8b88-69a007660c8c"
      },
      "source": [
        "## CNN class"
      ]
    },
    {
      "cell_type": "code",
      "execution_count": null,
      "id": "51dbf5e6-2e0f-412f-bf00-29e4dce6a994",
      "metadata": {
        "id": "51dbf5e6-2e0f-412f-bf00-29e4dce6a994"
      },
      "outputs": [],
      "source": [
        "class CNN(nn.Module):\n",
        "    def __init__(self):\n",
        "        super(CNN, self).__init__()\n",
        "\n",
        "        self.conv1 = nn.Conv2d(3, 16, 5)\n",
        "        self.pool = nn.MaxPool2d(2, 2)\n",
        "        self.fc1 = nn.Linear(16 * 14 * 14, 240)\n",
        "        self.fc2 = nn.Linear(240, 84)\n",
        "        self.fc3 = nn.Linear(84,10)\n",
        "\n",
        "    def forward(self, x):\n",
        "        x = self.pool(F.relu(self.conv1(x)))\n",
        "        x = torch.flatten(x, 1) # flatten all dimensions except batch\n",
        "        x = torch.tanh(self.fc1(x))\n",
        "        x = torch.tanh(self.fc2(x))\n",
        "        x = self.fc3(x)\n",
        "        return x\n",
        "\n",
        "    def loss_grad(self, param, inputs, labels, no_grad = False):\n",
        "\n",
        "        '''\n",
        "        zeroeing gradients\n",
        "        '''\n",
        "        torch.nn.utils.vector_to_parameters(param, self.parameters())\n",
        "        self.zero_grad(set_to_none=True)\n",
        "\n",
        "        '''\n",
        "        loss and grads\n",
        "        '''\n",
        "        outputs = model(inputs)\n",
        "\n",
        "        if no_grad == False:\n",
        "            ls = criterion(outputs, labels)\n",
        "            ls.backward()\n",
        "            grads = torch.cat([param.grad.data.view(-1) for param in self.parameters()], dim=0)\n",
        "            return ls.detach().item(), grads\n",
        "\n",
        "        else:\n",
        "            with torch.no_grad():\n",
        "                ls = criterion(outputs, labels)\n",
        "                return ls.detach().item()"
      ]
    },
    {
      "cell_type": "markdown",
      "id": "7b4f6acf-fc4f-48fc-be2b-65795782de8b",
      "metadata": {
        "id": "7b4f6acf-fc4f-48fc-be2b-65795782de8b"
      },
      "source": [
        "## create model and set loss_criteria"
      ]
    },
    {
      "cell_type": "code",
      "execution_count": null,
      "id": "db53037b-e921-4da0-8003-f8d0bc5ef163",
      "metadata": {
        "id": "db53037b-e921-4da0-8003-f8d0bc5ef163"
      },
      "outputs": [],
      "source": [
        "model = CNN()\n",
        "criterion = nn.CrossEntropyLoss()\n",
        "model = model.to(device)"
      ]
    },
    {
      "cell_type": "code",
      "execution_count": null,
      "id": "61b048d2-86bb-48d4-bbc3-0606910d1eed",
      "metadata": {
        "id": "61b048d2-86bb-48d4-bbc3-0606910d1eed"
      },
      "outputs": [],
      "source": [
        "start = torch.nn.utils.parameters_to_vector(model.parameters())"
      ]
    },
    {
      "cell_type": "code",
      "execution_count": null,
      "id": "121448da-d74f-4883-998d-5385458b0379",
      "metadata": {
        "id": "121448da-d74f-4883-998d-5385458b0379"
      },
      "outputs": [],
      "source": [
        "torch.nn.utils.vector_to_parameters(start, model.parameters())"
      ]
    },
    {
      "cell_type": "code",
      "execution_count": null,
      "id": "5f25d33d-3929-4fec-a2b1-64b476386571",
      "metadata": {
        "colab": {
          "base_uri": "https://localhost:8080/"
        },
        "id": "5f25d33d-3929-4fec-a2b1-64b476386571",
        "outputId": "89a4c19a-98ec-4775-8246-114f946117af"
      },
      "outputs": [
        {
          "output_type": "stream",
          "name": "stdout",
          "text": [
            "torch.Size([775190])\n"
          ]
        }
      ],
      "source": [
        "print(start.shape)"
      ]
    },
    {
      "cell_type": "code",
      "source": [
        "for inputs, labels in trainloader:\n",
        "    inputs = inputs.to(device)\n",
        "    labels = labels.to(device)\n",
        "    print(model.loss_grad(start, inputs, labels, no_grad=True))"
      ],
      "metadata": {
        "colab": {
          "base_uri": "https://localhost:8080/"
        },
        "id": "SLLaywBvls0k",
        "outputId": "740cb21d-1a25-48e9-d4db-6792621721d9"
      },
      "id": "SLLaywBvls0k",
      "execution_count": null,
      "outputs": [
        {
          "output_type": "stream",
          "name": "stdout",
          "text": [
            "2.3062424659729004\n"
          ]
        }
      ]
    },
    {
      "cell_type": "code",
      "execution_count": null,
      "id": "05d8a904-9095-4ba8-a76e-0f49be44ac87",
      "metadata": {
        "id": "05d8a904-9095-4ba8-a76e-0f49be44ac87"
      },
      "outputs": [],
      "source": [
        "optimizer = FINDER_core.FINDER(model, clamps = [0.001, 0.001])"
      ]
    },
    {
      "cell_type": "markdown",
      "id": "4dab615d-420d-4453-a378-2a6ac2f8dc3a",
      "metadata": {
        "id": "4dab615d-420d-4453-a378-2a6ac2f8dc3a"
      },
      "source": [
        "## train loop with FINDER"
      ]
    },
    {
      "cell_type": "code",
      "execution_count": null,
      "id": "94f78d6a-78ca-48c3-bd58-bcd7f1426dcb",
      "metadata": {
        "colab": {
          "base_uri": "https://localhost:8080/"
        },
        "id": "94f78d6a-78ca-48c3-bd58-bcd7f1426dcb",
        "outputId": "d0328c1f-b4ee-4bcc-bb9e-8d62b6f441cb"
      },
      "outputs": [
        {
          "output_type": "stream",
          "name": "stdout",
          "text": [
            "Epoch [1] loss: 2.165060\n",
            "Epoch [2] loss: 2.025023\n",
            "Epoch [3] loss: 1.973791\n",
            "Epoch [4] loss: 1.959236\n",
            "Epoch [5] loss: 1.948124\n",
            "Epoch [6] loss: 1.938210\n",
            "Epoch [7] loss: 1.855616\n",
            "Epoch [8] loss: 1.788688\n",
            "Epoch [9] loss: 1.771489\n",
            "Epoch [10] loss: 1.733082\n",
            "Epoch [11] loss: 1.710443\n",
            "Epoch [12] loss: 1.675512\n",
            "Epoch [13] loss: 1.628614\n",
            "Epoch [14] loss: 1.611186\n",
            "Epoch [15] loss: 1.573863\n",
            "Epoch [16] loss: 1.553810\n",
            "Epoch [17] loss: 1.528636\n",
            "Epoch [18] loss: 1.519854\n",
            "Epoch [19] loss: 1.510188\n",
            "Epoch [20] loss: 1.500505\n",
            "Epoch [21] loss: 1.468480\n",
            "Epoch [22] loss: 1.452147\n",
            "Epoch [23] loss: 1.446736\n",
            "Epoch [24] loss: 1.425997\n",
            "Epoch [25] loss: 1.424762\n",
            "Epoch [26] loss: 1.420488\n",
            "Epoch [27] loss: 1.394870\n",
            "Epoch [28] loss: 1.391473\n",
            "Epoch [29] loss: 1.375377\n",
            "Epoch [30] loss: 1.369018\n",
            "Epoch [31] loss: 1.360022\n",
            "Epoch [32] loss: 1.335897\n",
            "Epoch [33] loss: 1.331584\n",
            "Epoch [34] loss: 1.311764\n",
            "Epoch [35] loss: 1.301750\n",
            "Epoch [36] loss: 1.293967\n",
            "Epoch [37] loss: 1.289102\n",
            "Epoch [38] loss: 1.268393\n",
            "Epoch [39] loss: 1.251697\n",
            "Epoch [40] loss: 1.238869\n",
            "Epoch [41] loss: 1.230936\n",
            "Epoch [42] loss: 1.221483\n",
            "Epoch [43] loss: 1.205645\n",
            "Epoch [44] loss: 1.201622\n",
            "Epoch [45] loss: 1.200038\n",
            "Epoch [46] loss: 1.174613\n",
            "Epoch [47] loss: 1.174661\n",
            "Epoch [48] loss: 1.168191\n",
            "Epoch [49] loss: 1.166363\n",
            "Epoch [50] loss: 1.163650\n",
            "Epoch [51] loss: 1.151027\n",
            "Epoch [52] loss: 1.146808\n",
            "Epoch [53] loss: 1.134568\n",
            "Epoch [54] loss: 1.130102\n",
            "Epoch [55] loss: 1.118496\n",
            "Epoch [56] loss: 1.112892\n",
            "Epoch [57] loss: 1.101191\n",
            "Epoch [58] loss: 1.092112\n",
            "Epoch [59] loss: 1.083838\n",
            "Epoch [60] loss: 1.074271\n",
            "Epoch [61] loss: 1.065153\n",
            "Epoch [62] loss: 1.056235\n",
            "Epoch [63] loss: 1.054000\n",
            "Epoch [64] loss: 1.042843\n",
            "Epoch [65] loss: 1.024837\n",
            "Epoch [66] loss: 1.022795\n",
            "Epoch [67] loss: 1.017259\n",
            "Epoch [68] loss: 1.007761\n",
            "Epoch [69] loss: 0.996063\n",
            "Epoch [70] loss: 0.991861\n",
            "Epoch [71] loss: 0.983685\n",
            "Epoch [72] loss: 0.972881\n",
            "Epoch [73] loss: 0.971522\n",
            "Epoch [74] loss: 0.958929\n",
            "Epoch [75] loss: 0.950741\n",
            "Epoch [76] loss: 0.944064\n",
            "Epoch [77] loss: 0.943142\n",
            "Epoch [78] loss: 0.935423\n",
            "Epoch [79] loss: 0.931480\n",
            "Epoch [80] loss: 0.921994\n",
            "Epoch [81] loss: 0.921137\n",
            "Epoch [82] loss: 0.918439\n",
            "Epoch [83] loss: 0.909713\n",
            "Epoch [84] loss: 0.904746\n",
            "Epoch [85] loss: 0.896556\n",
            "Epoch [86] loss: 0.891585\n",
            "Epoch [87] loss: 0.882410\n",
            "Epoch [88] loss: 0.879253\n",
            "Epoch [89] loss: 0.871368\n",
            "Epoch [90] loss: 0.868464\n",
            "Epoch [91] loss: 0.862329\n",
            "Epoch [92] loss: 0.851865\n",
            "Epoch [93] loss: 0.843990\n",
            "Epoch [94] loss: 0.840686\n",
            "Epoch [95] loss: 0.838340\n",
            "Epoch [96] loss: 0.828628\n",
            "Epoch [97] loss: 0.825695\n",
            "Epoch [98] loss: 0.824594\n",
            "Epoch [99] loss: 0.818358\n",
            "Epoch [100] loss: 0.817608\n",
            "finished training in 1821.229761838913 seconds\n"
          ]
        }
      ],
      "source": [
        "model.train()\n",
        "tic = time.time()\n",
        "loss_FINDER_cifar10 = []\n",
        "\n",
        "for epoch in range(100):  # loop over the dataset multiple times\n",
        "    running_loss = 0.0\n",
        "\n",
        "    for i, data in enumerate(trainloader, 0):\n",
        "        inputs, labels = data\n",
        "        inputs = inputs.to(device)\n",
        "        labels = labels.to(device)\n",
        "\n",
        "        min_fitness = optimizer.step(inputs, labels)\n",
        "\n",
        "        running_loss += min_fitness\n",
        "    running_loss /= len(trainloader)\n",
        "\n",
        "    loss_FINDER_cifar10.append(running_loss)\n",
        "    print('Epoch [%d] loss: %.6f' %\n",
        "          (epoch + 1, running_loss))\n",
        "\n",
        "toc = time.time()\n",
        "print(\"finished training in\", toc - tic, \"seconds\")"
      ]
    },
    {
      "cell_type": "code",
      "execution_count": null,
      "id": "73caea1e-2dd1-4741-bcca-07e33fa65b34",
      "metadata": {
        "id": "73caea1e-2dd1-4741-bcca-07e33fa65b34"
      },
      "outputs": [],
      "source": []
    },
    {
      "cell_type": "code",
      "execution_count": null,
      "id": "1e917843-f93f-4ac4-8cf6-49e21195cc66",
      "metadata": {
        "id": "1e917843-f93f-4ac4-8cf6-49e21195cc66"
      },
      "outputs": [],
      "source": [
        "torch.save(loss_FINDER_cifar10, 'cifar10_FINDER_N775190_fullbatch.pt')"
      ]
    },
    {
      "cell_type": "markdown",
      "id": "c29a63d2-a180-4d5e-90fd-ab6582c49a67",
      "metadata": {
        "id": "c29a63d2-a180-4d5e-90fd-ab6582c49a67"
      },
      "source": [
        "## test accuracy"
      ]
    },
    {
      "cell_type": "code",
      "execution_count": null,
      "id": "e4698ecf-1980-420f-82fd-ddec8043ef43",
      "metadata": {
        "colab": {
          "base_uri": "https://localhost:8080/"
        },
        "id": "e4698ecf-1980-420f-82fd-ddec8043ef43",
        "outputId": "9d63b255-5d31-437b-bdb3-03e2efc52ae9"
      },
      "outputs": [
        {
          "output_type": "stream",
          "name": "stderr",
          "text": [
            "Exception ignored in: <function _MultiProcessingDataLoaderIter.__del__ at 0x7e4ee51f7490>\n",
            "Traceback (most recent call last):\n",
            "  File \"/usr/local/lib/python3.10/dist-packages/torch/utils/data/dataloader.py\", line 1479, in __del__\n",
            "    self._shutdown_workers()\n",
            "  File \"/usr/local/lib/python3.10/dist-packages/torch/utils/data/dataloader.py\", line 1462, in _shutdown_workers\n",
            "    if w.is_alive():\n",
            "  File \"/usr/lib/python3.10/multiprocessing/process.py\", line 160, in is_alive\n",
            "    assert self._parent_pid == os.getpid(), 'can only test a child process'\n",
            "AssertionError: can only test a child process\n",
            "Traceback (most recent call last):\n",
            "  File \"/usr/lib/python3.10/multiprocessing/queues.py\", line 239, in _feed\n",
            "    reader_close()\n",
            "  File \"/usr/lib/python3.10/multiprocessing/connection.py\", line 177, in close\n",
            "    self._close()\n",
            "  File \"/usr/lib/python3.10/multiprocessing/connection.py\", line 361, in _close\n",
            "    _close(self._handle)\n",
            "OSError: [Errno 9] Bad file descriptor\n"
          ]
        },
        {
          "output_type": "stream",
          "name": "stdout",
          "text": [
            "Accuracy on test set: 60.940000000000005 %\n"
          ]
        }
      ],
      "source": [
        "# test accuracy\n",
        "\n",
        "model.eval()\n",
        "correct = 0\n",
        "total = 0\n",
        "with torch.no_grad():\n",
        "    for data in testloader:\n",
        "        images, labels = data\n",
        "        images = images.to(device)\n",
        "        labels = labels.to(device)\n",
        "        outputs = model(images)\n",
        "        _, predicted = torch.max(outputs.data, 1)\n",
        "        total += labels.size(0)\n",
        "        correct += (predicted == labels).sum().item()\n",
        "print(f\"Accuracy on test set: {correct / total * 100} %\")"
      ]
    },
    {
      "cell_type": "markdown",
      "id": "20a4a901-53c9-4e6b-b68e-740725dc3898",
      "metadata": {
        "id": "20a4a901-53c9-4e6b-b68e-740725dc3898"
      },
      "source": [
        "## train accuracy"
      ]
    },
    {
      "cell_type": "code",
      "execution_count": null,
      "id": "d3fdea5a-d96b-42d5-9dcf-8e5c0d16fc6d",
      "metadata": {
        "colab": {
          "base_uri": "https://localhost:8080/"
        },
        "id": "d3fdea5a-d96b-42d5-9dcf-8e5c0d16fc6d",
        "outputId": "01576e72-5022-4c9b-a470-5e58b2a290f2"
      },
      "outputs": [
        {
          "output_type": "stream",
          "name": "stderr",
          "text": [
            "Exception ignored in: <function _MultiProcessingDataLoaderIter.__del__ at 0x7e4ee51f7490>\n",
            "Traceback (most recent call last):\n",
            "  File \"/usr/local/lib/python3.10/dist-packages/torch/utils/data/dataloader.py\", line 1479, in __del__\n",
            "    self._shutdown_workers()\n",
            "  File \"/usr/local/lib/python3.10/dist-packages/torch/utils/data/dataloader.py\", line 1462, in _shutdown_workers\n",
            "    if w.is_alive():\n",
            "  File \"/usr/lib/python3.10/multiprocessing/process.py\", line 160, in is_alive\n",
            "    assert self._parent_pid == os.getpid(), 'can only test a child process'\n",
            "AssertionError: can only test a child process\n",
            "Traceback (most recent call last):\n",
            "  File \"/usr/lib/python3.10/multiprocessing/queues.py\", line 239, in _feed\n",
            "    reader_close()\n",
            "  File \"/usr/lib/python3.10/multiprocessing/connection.py\", line 177, in close\n",
            "    self._close()\n",
            "  File \"/usr/lib/python3.10/multiprocessing/connection.py\", line 361, in _close\n",
            "    _close(self._handle)\n",
            "OSError: [Errno 9] Bad file descriptor\n"
          ]
        },
        {
          "output_type": "stream",
          "name": "stdout",
          "text": [
            "Accuracy on test set: 71.52 %\n"
          ]
        }
      ],
      "source": [
        "# train accuracy\n",
        "model.eval()\n",
        "correct = 0\n",
        "total = 0\n",
        "with torch.no_grad():\n",
        "    for data in trainloader:\n",
        "        images, labels = data\n",
        "        images = images.to(device)\n",
        "        labels = labels.to(device)\n",
        "        outputs = model(images)\n",
        "        _, predicted = torch.max(outputs.data, 1)\n",
        "        total += labels.size(0)\n",
        "        correct += (predicted == labels).sum().item()\n",
        "print(f\"Accuracy on test set: {correct / total * 100} %\")"
      ]
    },
    {
      "cell_type": "markdown",
      "id": "0df15a73-0452-4a63-8f89-65bef6dd64e3",
      "metadata": {
        "id": "0df15a73-0452-4a63-8f89-65bef6dd64e3"
      },
      "source": [
        "# adam"
      ]
    },
    {
      "cell_type": "code",
      "execution_count": null,
      "id": "e6f01e02-2c7f-4682-819c-9324016bcc32",
      "metadata": {
        "colab": {
          "base_uri": "https://localhost:8080/"
        },
        "id": "e6f01e02-2c7f-4682-819c-9324016bcc32",
        "outputId": "691408c6-b96f-4675-d961-e57d51e765dc"
      },
      "outputs": [
        {
          "output_type": "stream",
          "name": "stdout",
          "text": [
            "torch.Size([775190])\n",
            "Epoch [1] loss: 2.306950\n",
            "Epoch [2] loss: 2.193794\n",
            "Epoch [3] loss: 2.103122\n",
            "Epoch [4] loss: 2.045482\n",
            "Epoch [5] loss: 1.998375\n",
            "Epoch [6] loss: 1.960468\n",
            "Epoch [7] loss: 1.929970\n",
            "Epoch [8] loss: 1.904383\n",
            "Epoch [9] loss: 1.880977\n",
            "Epoch [10] loss: 1.860894\n",
            "Epoch [11] loss: 1.841209\n",
            "Epoch [12] loss: 1.819179\n",
            "Epoch [13] loss: 1.797470\n",
            "Epoch [14] loss: 1.776903\n",
            "Epoch [15] loss: 1.754947\n",
            "Epoch [16] loss: 1.733545\n",
            "Epoch [17] loss: 1.714817\n",
            "Epoch [18] loss: 1.695902\n",
            "Epoch [19] loss: 1.677599\n",
            "Epoch [20] loss: 1.659931\n",
            "Epoch [21] loss: 1.641483\n",
            "Epoch [22] loss: 1.622921\n",
            "Epoch [23] loss: 1.603551\n",
            "Epoch [24] loss: 1.583729\n",
            "Epoch [25] loss: 1.564438\n",
            "Epoch [26] loss: 1.544565\n",
            "Epoch [27] loss: 1.525349\n",
            "Epoch [28] loss: 1.506822\n",
            "Epoch [29] loss: 1.489080\n",
            "Epoch [30] loss: 1.472578\n",
            "Epoch [31] loss: 1.456955\n",
            "Epoch [32] loss: 1.442382\n",
            "Epoch [33] loss: 1.428139\n",
            "Epoch [34] loss: 1.414337\n",
            "Epoch [35] loss: 1.401019\n",
            "Epoch [36] loss: 1.389506\n",
            "Epoch [37] loss: 1.386256\n",
            "Epoch [38] loss: 1.381075\n",
            "Epoch [39] loss: 1.356972\n",
            "Epoch [40] loss: 1.352674\n",
            "Epoch [41] loss: 1.344252\n",
            "Epoch [42] loss: 1.328317\n",
            "Epoch [43] loss: 1.327736\n",
            "Epoch [44] loss: 1.312131\n",
            "Epoch [45] loss: 1.308500\n",
            "Epoch [46] loss: 1.297861\n",
            "Epoch [47] loss: 1.290373\n",
            "Epoch [48] loss: 1.283673\n",
            "Epoch [49] loss: 1.273124\n",
            "Epoch [50] loss: 1.269530\n",
            "Epoch [51] loss: 1.257908\n",
            "Epoch [52] loss: 1.253361\n",
            "Epoch [53] loss: 1.245392\n",
            "Epoch [54] loss: 1.236827\n",
            "Epoch [55] loss: 1.231919\n",
            "Epoch [56] loss: 1.222301\n",
            "Epoch [57] loss: 1.217709\n",
            "Epoch [58] loss: 1.209828\n",
            "Epoch [59] loss: 1.201758\n",
            "Epoch [60] loss: 1.196670\n",
            "Epoch [61] loss: 1.188150\n",
            "Epoch [62] loss: 1.182037\n",
            "Epoch [63] loss: 1.176592\n",
            "Epoch [64] loss: 1.168774\n",
            "Epoch [65] loss: 1.163570\n",
            "Epoch [66] loss: 1.158558\n",
            "Epoch [67] loss: 1.152255\n",
            "Epoch [68] loss: 1.147102\n",
            "Epoch [69] loss: 1.141757\n",
            "Epoch [70] loss: 1.131854\n",
            "Epoch [71] loss: 1.123681\n",
            "Epoch [72] loss: 1.118996\n",
            "Epoch [73] loss: 1.114988\n",
            "Epoch [74] loss: 1.110299\n",
            "Epoch [75] loss: 1.102654\n",
            "Epoch [76] loss: 1.094969\n",
            "Epoch [77] loss: 1.089482\n",
            "Epoch [78] loss: 1.085049\n",
            "Epoch [79] loss: 1.079639\n",
            "Epoch [80] loss: 1.072943\n",
            "Epoch [81] loss: 1.066810\n",
            "Epoch [82] loss: 1.062097\n",
            "Epoch [83] loss: 1.057313\n",
            "Epoch [84] loss: 1.051404\n",
            "Epoch [85] loss: 1.044840\n",
            "Epoch [86] loss: 1.039176\n",
            "Epoch [87] loss: 1.035520\n",
            "Epoch [88] loss: 1.033687\n",
            "Epoch [89] loss: 1.032275\n",
            "Epoch [90] loss: 1.033879\n",
            "Epoch [91] loss: 1.027878\n",
            "Epoch [92] loss: 1.013041\n",
            "Epoch [93] loss: 1.002616\n",
            "Epoch [94] loss: 1.005160\n",
            "Epoch [95] loss: 1.003812\n",
            "Epoch [96] loss: 0.990922\n",
            "Epoch [97] loss: 0.984937\n",
            "Epoch [98] loss: 0.985958\n",
            "Epoch [99] loss: 0.978974\n",
            "Epoch [100] loss: 0.971842\n",
            "Finished Training in  1507.05677652359  seconds\n",
            "Accuracy of the network on the 10000 test images: 61 %\n",
            "Accuracy of the network on the 50000 train images: 65 %\n"
          ]
        }
      ],
      "source": [
        "class Net(nn.Module):\n",
        "    def __init__(self):\n",
        "        super(Net, self).__init__()\n",
        "        self.conv1 = nn.Conv2d(3, 16, 5)\n",
        "        self.pool = nn.MaxPool2d(2, 2)\n",
        "        self.fc1 = nn.Linear(16 * 14 * 14, 240)\n",
        "        self.fc2 = nn.Linear(240, 84)\n",
        "        self.fc3 = nn.Linear(84,10)\n",
        "\n",
        "    def forward(self, x):\n",
        "        x = self.pool(F.relu(self.conv1(x)))\n",
        "        x = torch.flatten(x, 1) # flatten all dimensions except batch\n",
        "        x = torch.tanh(self.fc1(x))\n",
        "        x = torch.tanh(self.fc2(x))\n",
        "        x = self.fc3(x)\n",
        "        return x\n",
        "\n",
        "net = Net().to(device)\n",
        "torch.nn.utils.vector_to_parameters(start, net.parameters())\n",
        "criterion = nn.CrossEntropyLoss()\n",
        "optimizer = optim.Adam(net.parameters(), lr=0.001)\n",
        "loss_adam = []\n",
        "print(torch.nn.utils.parameters_to_vector(net.parameters()).shape)\n",
        "\n",
        "net.train()\n",
        "tic = time.time()\n",
        "for epoch in range(100):  # loop over the dataset multiple times\n",
        "    correct = 0.0\n",
        "    running_loss = 0.0\n",
        "    total = 0.0\n",
        "    for i, data in enumerate(trainloader, 0):\n",
        "\n",
        "        # get the inputs; data is a list of [inputs, labels]\n",
        "        inputs, labels = data\n",
        "        inputs = inputs.to(device)\n",
        "        labels = labels.to(device)\n",
        "\n",
        "        # zero the parameter gradients\n",
        "        net.zero_grad()\n",
        "\n",
        "        outputs = net(inputs)\n",
        "        loss = criterion(outputs, labels)\n",
        "        loss.backward()\n",
        "        optimizer.step()\n",
        "\n",
        "        # accumulate loss\n",
        "        running_loss += loss.item()\n",
        "\n",
        "    running_loss /= len(trainloader)\n",
        "\n",
        "    # print loss at the end of each epoch\n",
        "\n",
        "    loss_adam.append(running_loss)\n",
        "\n",
        "    print('Epoch [%d] loss: %.6f' %\n",
        "          (epoch + 1, running_loss))\n",
        "toc = time.time()\n",
        "print('Finished Training in ', toc - tic, \" seconds\")\n",
        "\n",
        "net.eval()\n",
        "correct = 0\n",
        "total = 0\n",
        "with torch.no_grad():\n",
        "    for data in testloader:\n",
        "        images, labels = data\n",
        "        images = images.to(device)\n",
        "        labels = labels.to(device)\n",
        "        outputs = net(images)\n",
        "        _, predicted = torch.max(outputs.data, 1)\n",
        "        total += labels.size(0)\n",
        "        correct += (predicted == labels).sum().item()\n",
        "\n",
        "print('Accuracy of the network on the 10000 test images: %d %%' % (\n",
        "    100 * correct / total))\n",
        "\n",
        "net.eval()\n",
        "with torch.no_grad():\n",
        "    for data in trainloader:\n",
        "        images, labels = data\n",
        "        images = images.to(device)\n",
        "        labels = labels.to(device)\n",
        "        outputs = net(images)\n",
        "        _, predicted = torch.max(outputs.data, 1)\n",
        "        total += labels.size(0)\n",
        "        correct += (predicted == labels).sum().item()\n",
        "\n",
        "print('Accuracy of the network on the 50000 train images: %d %%' % (\n",
        "    100 * correct / total))\n"
      ]
    },
    {
      "cell_type": "code",
      "source": [
        "torch.save(loss_adam, 'cifar10_adam_N775190_fullbatch.pt')"
      ],
      "metadata": {
        "id": "wWWXx3qRqypA"
      },
      "id": "wWWXx3qRqypA",
      "execution_count": null,
      "outputs": []
    },
    {
      "cell_type": "markdown",
      "id": "65438245-c850-4c04-9b5d-949a76d11c35",
      "metadata": {
        "id": "65438245-c850-4c04-9b5d-949a76d11c35"
      },
      "source": [
        "# plotting"
      ]
    },
    {
      "cell_type": "code",
      "execution_count": null,
      "id": "ddb9ad29-d17e-4e80-b1fc-6ba32523cde0",
      "metadata": {
        "colab": {
          "base_uri": "https://localhost:8080/",
          "height": 449
        },
        "id": "ddb9ad29-d17e-4e80-b1fc-6ba32523cde0",
        "outputId": "2f9993fc-66cc-495b-b321-d27ffa57cd6e"
      },
      "outputs": [
        {
          "output_type": "display_data",
          "data": {
            "text/plain": [
              "<Figure size 640x480 with 1 Axes>"
            ],
            "image/png": "[encoded data removed]"
          },
          "metadata": {}
        }
      ],
      "source": [
        "ax = plt.axes()\n",
        "# ax.set_facecolor('bisque')\n",
        "plt.plot(loss_FINDER_cifar10,'r', label = \"FINDER\")\n",
        "plt.plot(loss_adam,'b', label = \"Adam\")\n",
        "plt.ylabel('log(f(x))')\n",
        "plt.xlabel('number of epochs')\n",
        "plt.legend()\n",
        "plt.yscale('log')\n",
        "plt.grid()"
      ]
    }
  ],
  "metadata": {
    "kernelspec": {
      "display_name": "Python 3",
      "name": "python3"
    },
    "language_info": {
      "codemirror_mode": {
        "name": "ipython",
        "version": 3
      },
      "file_extension": ".py",
      "mimetype": "text/x-python",
      "name": "python",
      "nbconvert_exporter": "python",
      "pygments_lexer": "ipython3",
      "version": "3.12.3"
    },
    "colab": {
      "provenance": [],
      "gpuType": "T4"
    },
    "accelerator": "GPU"
  },
  "nbformat": 4,
  "nbformat_minor": 5
}