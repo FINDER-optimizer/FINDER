{
 "cells": [
  {
   "cell_type": "markdown",
   "id": "81a40b7e-08b1-4014-9553-0a2999766333",
   "metadata": {},
   "source": [
    "## imports"
   ]
  },
  {
   "cell_type": "code",
   "execution_count": 1,
   "id": "ac8967b5-f7df-46b9-a05a-9564f50e806d",
   "metadata": {},
   "outputs": [],
   "source": [
    "import numpy as np\n",
    "from numpy import sqrt, abs, pi, exp, diag, mean, min, max, sum, eye\n",
    "from numpy.linalg import norm, inv\n",
    "import math\n",
    "import matplotlib.pyplot as plt\n",
    "import time"
   ]
  },
  {
   "cell_type": "code",
   "execution_count": 2,
   "id": "0a8068e6-cbcf-465d-a7ff-282fade83d11",
   "metadata": {},
   "outputs": [],
   "source": [
    "import torch"
   ]
  },
  {
   "cell_type": "markdown",
   "id": "e0febfb4-adf5-4796-b559-054088174bac",
   "metadata": {
    "id": "APqhphzyQWT_"
   },
   "source": [
    "## function & derivatives"
   ]
  },
  {
   "cell_type": "code",
   "execution_count": 3,
   "id": "ab479f0d-e05f-4dff-9754-9af6e3936fee",
   "metadata": {},
   "outputs": [],
   "source": [
    "\"\"\"\n",
    "The Ackley function.\n",
    "\n",
    "  Args:\n",
    "    x: A numpy array of the input values.\n",
    "\n",
    "  Returns:\n",
    "    The value of the Ackley function at the given input.\n",
    "\"\"\"\n",
    "\n",
    "def ackley(x):\n",
    "    x.astype('float32')\n",
    "    n = x.shape[0]\n",
    "    d = x.shape[1]\n",
    "\n",
    "    a = 20\n",
    "    b = 0.2\n",
    "    c = 2 * np.pi\n",
    "    e = np.exp(1)\n",
    "\n",
    "    sum1 = np.sum(x**2, axis = 1)\n",
    "    sum2 = np.sum(np.cos(c*x), axis = 1)\n",
    "    \n",
    "\n",
    "    f = -a * np.exp(-b * np.sqrt(sum1/d)) - np.exp(sum2/d) + e + a\n",
    "\n",
    "    return f.astype('float32')\n",
    "\n",
    "    # this function returns the function (n x 1) and gradf values (n x d) where n is number of particles an d is dimension of x"
   ]
  },
  {
   "cell_type": "code",
   "execution_count": 4,
   "id": "84e5e165-f691-430e-af0a-251420ceadeb",
   "metadata": {},
   "outputs": [],
   "source": [
    "def ackley_grad(x):\n",
    "    x = x.astype('float32')\n",
    "    n = x.shape[0]\n",
    "    d = x.shape[1]\n",
    "    component = np.arange(N)\n",
    "    a = 20\n",
    "    b = 0.2\n",
    "    c = 2 * np.pi\n",
    "    e = np.exp(1)\n",
    "\n",
    "    sum1 = np.sum(x**2, axis = 1).reshape(-1,1)\n",
    "    sum2 = np.sum(np.cos(c*x), axis = 1).reshape(-1,1)\n",
    "        \n",
    "    gradf = np.zeros((n,len(component)), dtype = 'float32')\n",
    "    \n",
    "    term1 = (-a * np.exp(-b * np.sqrt(sum1/d)) * (-b/np.sqrt(d * sum1 + 1e-16))) * x[:,component]\n",
    "    term2 = -np.exp(sum2/d) * (-c/d) * np.sin(c * x[:,component])\n",
    "    gradf[:,:] = (term1 + term2)\n",
    "\n",
    "    return gradf.astype('float32')"
   ]
  },
  {
   "cell_type": "markdown",
   "id": "86482289-62c4-4f40-9d7a-6091e15ff467",
   "metadata": {
    "id": "AWph2lJ8Lk7E"
   },
   "source": [
    "## func, xmean, dim"
   ]
  },
  {
   "cell_type": "code",
   "execution_count": 5,
   "id": "2429cb2a-3283-4e62-b3a1-77e2e5b2e29c",
   "metadata": {
    "colab": {
     "base_uri": "https://localhost:8080/"
    },
    "id": "ddBwQEmDLj0l",
    "outputId": "110d64ad-1a55-4dfc-8648-9f75b290cbdf"
   },
   "outputs": [],
   "source": [
    "N = 5000\n",
    "strfitnessfct = ackley\n",
    "strgrad = ackley_grad\n",
    "xmean = 0.1 * np.ones((N,1)) + 0.01* np.random.randn(N,1)"
   ]
  },
  {
   "cell_type": "code",
   "execution_count": 6,
   "id": "00d9e06c-ca2d-4b32-bdeb-12b0ab6f4167",
   "metadata": {},
   "outputs": [
    {
     "data": {
      "text/plain": [
       "(5000, 1)"
      ]
     },
     "execution_count": 6,
     "metadata": {},
     "output_type": "execute_result"
    }
   ],
   "source": [
    "xmean.shape"
   ]
  },
  {
   "cell_type": "markdown",
   "id": "4e7fba63-842e-4fd6-a191-65abeb0a7d52",
   "metadata": {},
   "source": [
    "## initialisations"
   ]
  },
  {
   "cell_type": "code",
   "execution_count": 7,
   "id": "4d12acf5-6702-4d9b-8e06-9a331a17d30a",
   "metadata": {},
   "outputs": [],
   "source": [
    "stopfitness = 1e-3"
   ]
  },
  {
   "cell_type": "code",
   "execution_count": 8,
   "id": "07de2b21-4f95-45ff-ba53-87ee5e6849f4",
   "metadata": {},
   "outputs": [],
   "source": [
    "xmean = xmean.astype('float32')\n",
    "xmin = xmean"
   ]
  },
  {
   "cell_type": "code",
   "execution_count": 9,
   "id": "389c31f6-690a-48be-b126-6d7772f9d736",
   "metadata": {},
   "outputs": [],
   "source": [
    "R = 0.1 * np.ones((1,N))\n",
    "Γ = np.zeros((N,1), dtype = np.float32)\n",
    "p = 5\n",
    "cs = 0.1\n",
    "it = 0\n",
    "prev = 0\n",
    "θ = 0.1\n",
    "Δ = 0\n",
    "x_st = xmean\n",
    "fXX = (strfitnessfct(xmean.T))"
   ]
  },
  {
   "cell_type": "markdown",
   "id": "4c487bbc-af99-40a1-bcd0-874054564093",
   "metadata": {},
   "source": [
    "## helper functions"
   ]
  },
  {
   "cell_type": "code",
   "execution_count": 10,
   "id": "e4589d3b-66dd-491b-95f6-5e6f5d09b429",
   "metadata": {},
   "outputs": [],
   "source": [
    "def generate_arx(x, r, num = 5):\n",
    "    return np.concatenate([x,x + (r * (2*np.random.rand(num-1, x.shape[0])-1)).T], axis = 1)"
   ]
  },
  {
   "cell_type": "code",
   "execution_count": 11,
   "id": "f19b693b-6c3e-47d3-bb79-59a892c9b60d",
   "metadata": {},
   "outputs": [],
   "source": [
    "def sorted_x_y_grad(x, grads = True):\n",
    "    if grads == True:\n",
    "        y = strfitnessfct(x.T)\n",
    "        y_grad = strgrad(x.T).T\n",
    "        \n",
    "        y_sorted = np.sort(y)\n",
    "        sorted_indices = np.argsort(y)\n",
    "        y_grad_sorted = y_grad[:,sorted_indices]\n",
    "        x_sorted = x[:, sorted_indices]\n",
    "        fittest = x_sorted[:,0:1]\n",
    "\n",
    "        return x_sorted, y_sorted[0], y_grad_sorted, fittest\n",
    "    else:\n",
    "        y = strfitnessfct(x.T)\n",
    "        y_sorted = np.sort(y)\n",
    "        sorted_indices = np.argsort(y)\n",
    "        x_sorted = x[:, sorted_indices]\n",
    "        fittest = x_sorted[:,0:1]\n",
    "        worst = x_sorted[:,-1:]\n",
    "\n",
    "        return fittest, worst, y_sorted[0]"
   ]
  },
  {
   "cell_type": "code",
   "execution_count": 12,
   "id": "27a47172-d68d-4470-881c-cfc63d12b03b",
   "metadata": {},
   "outputs": [],
   "source": [
    "def calc_invH(x, x_grad, γ = 1):\n",
    "    a = x - np.mean(x, axis = 1).reshape(-1,1)\n",
    "    b = x_grad - np.mean(x_grad, axis = 1).reshape(-1,1)\n",
    "    c = np.sum(a*b, axis = 1)\n",
    "    d = np.sum(b*b, axis = 1)\n",
    "    Hinv = (c / d).reshape(-1,1)\n",
    "    Hinv = np.nan_to_num(Hinv)\n",
    "    Hinv[Hinv<0] = 0.0\n",
    "    return Hinv**γ"
   ]
  },
  {
   "cell_type": "code",
   "execution_count": 13,
   "id": "d3b5d36a-5fa7-41d8-80b9-326681ee577c",
   "metadata": {},
   "outputs": [],
   "source": [
    "def cal_R(xmin, xmax, ps, cs = 0.1):\n",
    "    ps = (1 - cs) * ps + cs * (xmax - xmin)\n",
    "    sig = np.minimum(np.abs(ps.T), 0.01 * np.ones_like(ps.T))\n",
    "    sig[sig == 0] = 0.01\n",
    "    return sig, ps"
   ]
  },
  {
   "cell_type": "code",
   "execution_count": 14,
   "id": "305ee3b2-526d-4636-a948-0321318808b9",
   "metadata": {},
   "outputs": [],
   "source": [
    "def update_ensemble(x, α, Δ):\n",
    "    K = Δ\n",
    "    x1 = x - α * Δ\n",
    "    return x1, K"
   ]
  },
  {
   "cell_type": "code",
   "execution_count": 15,
   "id": "15f24a67-ba18-4dae-a554-551b6bc24a95",
   "metadata": {},
   "outputs": [],
   "source": [
    "def increment(K, B, G, θ=0.9):\n",
    "    return θ * K + B * G"
   ]
  },
  {
   "cell_type": "code",
   "execution_count": 16,
   "id": "0bcb85ad-392e-4b11-9c79-cc4a8276ae01",
   "metadata": {},
   "outputs": [],
   "source": [
    "def wolfe_step(g, Hg, x, loss):\n",
    "    \n",
    "    step = 0.1\n",
    "    c_1 = 0.01\n",
    "    pvec = - Hg#/ torch.norm(Hg)\n",
    "    γ = 1.0\n",
    "    \n",
    "    while γ > 1e-6:\n",
    "        new_x = x.reshape(-1,1) + γ * pvec.reshape(-1,1)\n",
    "        loss_new = strfitnessfct(new_x.T)\n",
    "        g_new = strgrad(new_x.T)\n",
    "        min_loss = c_1 * γ * pvec @ g\n",
    "        armijo = loss_new - loss - min_loss\n",
    "\n",
    "        if armijo < -0:\n",
    "            step = γ\n",
    "            x = new_x.reshape(-1,1)\n",
    "            break\n",
    "            \n",
    "        else:\n",
    "            γ *= 0.5\n",
    "        # raise RuntimeError(\"Backtracking line search failed to converge\")\n",
    "\n",
    "    return step"
   ]
  },
  {
   "cell_type": "markdown",
   "id": "31c70950-1354-4a55-a3c5-53e0ce03ef2c",
   "metadata": {},
   "source": [
    "# FINDER"
   ]
  },
  {
   "cell_type": "code",
   "execution_count": 17,
   "id": "8e5773db-c0dd-4e9d-b3d0-6596d1c0a977",
   "metadata": {},
   "outputs": [
    {
     "name": "stdout",
     "output_type": "stream",
     "text": [
      "0 \t 0.8751373 \n",
      "\n",
      "1 \t 0.09038043 \n",
      "\n",
      "2 \t 0.056578744 \n",
      "\n",
      "3 \t 0.0060924804 \n",
      "\n",
      "4 \t 0.0040931976 \n",
      "\n",
      "5 \t 0.0025456497 \n",
      "\n",
      "6 \t 0.0013306892 \n",
      "\n",
      "7 \t 0.0011958735 \n",
      "\n",
      "8 \t 0.0010798126 \n",
      "\n",
      "9 \t 0.001003694 \n",
      "\n",
      "10 \t 0.0009285145 \n",
      "\n",
      "finished training in  0.01922297477722168  seconds\n"
     ]
    }
   ],
   "source": [
    "tic = time.time()\n",
    "while True:\n",
    "    \n",
    "    '''\n",
    "    sampling around xmean\n",
    "    '''\n",
    "    arx = generate_arx(xmin, R)\n",
    "    '''\n",
    "    gradient computation and sorting initial ensemble\n",
    "    '''\n",
    "    arx_sorted, least_fitness, gradf_sorted, xmiin = sorted_x_y_grad(arx, grads=True)\n",
    "    \n",
    "    '''\n",
    "    diagonal approximation to the stochastic mimic of the inverse Hessian\n",
    "    '''\n",
    "    B = calc_invH(arx_sorted, gradf_sorted)\n",
    "    \n",
    "    '''\n",
    "    increment term\n",
    "    '''\n",
    "    Δ_sorted = increment(prev, B, gradf_sorted, θ)\n",
    "\n",
    "    '''\n",
    "    update ensemble\n",
    "    '''\n",
    "    α = wolfe_step(gradf_sorted[:, 0], Δ_sorted[:,0], arx_sorted[:, 0], least_fitness)\n",
    "    arx_new, prev = update_ensemble(arx_sorted, α, Δ_sorted)\n",
    "    \n",
    "    '''\n",
    "    new ensemble\n",
    "    '''\n",
    "    arx_new1 = np.concatenate([arx_new, xmiin], axis = 1)\n",
    "    \n",
    "    '''\n",
    "    search radius update\n",
    "    '''\n",
    "    xmin, xmax, min_fitness = sorted_x_y_grad(arx_new1, grads=False)\n",
    "    R, Γ = cal_R(xmin, xmax, Γ)\n",
    "    \n",
    "    '''\n",
    "    storing varibales for plotting\n",
    "    '''\n",
    "    x_st = np.concatenate([x_st, xmin], axis = 1)\n",
    "    fXX = np.concatenate([fXX, np.array([min_fitness])], axis = 0)\n",
    "    \n",
    "    '''\n",
    "    iteration count update and printing\n",
    "    '''\n",
    "    if it == 0:\n",
    "        print(it, \"\\t\", fXX[it],\"\\n\")\n",
    "    it += 1\n",
    "    print(it,\"\\t\", fXX[it],\"\\n\")\n",
    "    \n",
    "    '''\n",
    "    termination criteria\n",
    "    '''\n",
    "    if fXX[-1] <= stopfitness:\n",
    "        break\n",
    "toc = time.time()\n",
    "print(\"finished training in \",toc-tic,\" seconds\")"
   ]
  },
  {
   "cell_type": "markdown",
   "id": "8cacfed4-dd79-45d8-b286-3bf659064288",
   "metadata": {},
   "source": [
    "# Adam"
   ]
  },
  {
   "cell_type": "code",
   "execution_count": 18,
   "id": "4d43fa74-f090-4e33-9064-023787f89908",
   "metadata": {},
   "outputs": [],
   "source": [
    "from numpy.random import rand\n",
    "from numpy import sqrt\n",
    "# xx_st = xmean\n",
    "fx_st = []\n",
    "def adam(objective, n_iter, alpha, beta1 = 0.9, beta2 = 0.999, eps=1e-8):\n",
    "    # generate an initial point\n",
    "    global xx_st\n",
    "    xx_st = xmean\n",
    "\n",
    "    x = xmean.copy()  # Initialize with random values\n",
    "    score = objective(x.T)\n",
    "    # initialize first and second moments\n",
    "    m = [0.0 for _ in range(len(x))]\n",
    "    v = [0.0 for _ in range(len(x))]\n",
    "    # run the gradient descent updates\n",
    "    for t in range(n_iter):\n",
    "        # calculate gradient g(t)\n",
    "        g = strgrad(x.T)\n",
    "        g = g.T\n",
    "        # build a solution one variable at a time\n",
    "        \n",
    "        for i in range(len(x)):\n",
    "            # m(t) = beta1 * m(t-1) + (1 - beta1) * g(t)\n",
    "            m[i] = beta1 * m[i] + (1.0 - beta1) * g[i]\n",
    "            # v(t) = beta2 * v(t-1) + (1 - beta2) * g(t)^2\n",
    "            v[i] = beta2 * v[i] + (1.0 - beta2) * g[i]**2\n",
    "            # mhat(t) = m(t) / (1 - beta1(t))\n",
    "            mhat = m[i] / (1.0 - beta1**(t+1))\n",
    "            # vhat(t) = v(t) / (1 - beta2(t))\n",
    "            vhat = v[i] / (1.0 - beta2**(t+1))\n",
    "            # x(t) = x(t-1) - alpha * mhat(t) / (sqrt(vhat(t)) + eps)\n",
    "            x[i] = x[i] - alpha * mhat / (sqrt(vhat) + eps)\n",
    "        # evaluate candidate point\n",
    "        score = strfitnessfct(x.T)\n",
    "        fx_st.append(score)\n",
    "        xx_st = np.concatenate([xx_st, x], axis = 1)\n",
    "        # report progress\n",
    "        print('>%d f() = %.5f' % (t, score))\n",
    "        if score < 1e-3:\n",
    "            print(\"------\")\n",
    "            break\n",
    "    \n",
    "    return [x, score, xx_st]\n"
   ]
  },
  {
   "cell_type": "code",
   "execution_count": 19,
   "id": "0e6b9b29-4b4b-4bba-80ec-b59b4fa39e2d",
   "metadata": {
    "scrolled": true
   },
   "outputs": [
    {
     "name": "stderr",
     "output_type": "stream",
     "text": [
      "/tmp/ipykernel_3605461/60144132.py:38: DeprecationWarning: Conversion of an array with ndim > 0 to a scalar is deprecated, and will error in future. Ensure you extract a single element from your array before performing this operation. (Deprecated NumPy 1.25.)\n",
      "  print('>%d f() = %.5f' % (t, score))\n"
     ]
    },
    {
     "name": "stdout",
     "output_type": "stream",
     "text": [
      ">0 f() = 0.86299\n",
      ">1 f() = 0.85089\n",
      ">2 f() = 0.83883\n",
      ">3 f() = 0.82681\n",
      ">4 f() = 0.81484\n",
      ">5 f() = 0.80293\n",
      ">6 f() = 0.79106\n",
      ">7 f() = 0.77925\n",
      ">8 f() = 0.76749\n",
      ">9 f() = 0.75579\n",
      ">10 f() = 0.74415\n",
      ">11 f() = 0.73257\n",
      ">12 f() = 0.72105\n",
      ">13 f() = 0.70960\n",
      ">14 f() = 0.69821\n",
      ">15 f() = 0.68689\n",
      ">16 f() = 0.67564\n",
      ">17 f() = 0.66446\n",
      ">18 f() = 0.65335\n",
      ">19 f() = 0.64233\n",
      ">20 f() = 0.63137\n",
      ">21 f() = 0.62049\n",
      ">22 f() = 0.60970\n",
      ">23 f() = 0.59898\n",
      ">24 f() = 0.58834\n",
      ">25 f() = 0.57779\n",
      ">26 f() = 0.56733\n",
      ">27 f() = 0.55695\n",
      ">28 f() = 0.54665\n",
      ">29 f() = 0.53645\n",
      ">30 f() = 0.52634\n",
      ">31 f() = 0.51632\n",
      ">32 f() = 0.50639\n",
      ">33 f() = 0.49656\n",
      ">34 f() = 0.48682\n",
      ">35 f() = 0.47718\n",
      ">36 f() = 0.46764\n",
      ">37 f() = 0.45819\n",
      ">38 f() = 0.44884\n",
      ">39 f() = 0.43959\n",
      ">40 f() = 0.43044\n",
      ">41 f() = 0.42139\n",
      ">42 f() = 0.41245\n",
      ">43 f() = 0.40360\n",
      ">44 f() = 0.39486\n",
      ">45 f() = 0.38622\n",
      ">46 f() = 0.37769\n",
      ">47 f() = 0.36926\n",
      ">48 f() = 0.36093\n",
      ">49 f() = 0.35271\n",
      ">50 f() = 0.34459\n",
      ">51 f() = 0.33658\n",
      ">52 f() = 0.32867\n",
      ">53 f() = 0.32087\n",
      ">54 f() = 0.31318\n",
      ">55 f() = 0.30559\n",
      ">56 f() = 0.29811\n",
      ">57 f() = 0.29073\n",
      ">58 f() = 0.28345\n",
      ">59 f() = 0.27628\n",
      ">60 f() = 0.26922\n",
      ">61 f() = 0.26226\n",
      ">62 f() = 0.25541\n",
      ">63 f() = 0.24866\n",
      ">64 f() = 0.24202\n",
      ">65 f() = 0.23547\n",
      ">66 f() = 0.22903\n",
      ">67 f() = 0.22270\n",
      ">68 f() = 0.21646\n",
      ">69 f() = 0.21033\n",
      ">70 f() = 0.20430\n",
      ">71 f() = 0.19836\n",
      ">72 f() = 0.19253\n",
      ">73 f() = 0.18680\n",
      ">74 f() = 0.18116\n",
      ">75 f() = 0.17563\n",
      ">76 f() = 0.17019\n",
      ">77 f() = 0.16484\n",
      ">78 f() = 0.15960\n",
      ">79 f() = 0.15445\n",
      ">80 f() = 0.14938\n",
      ">81 f() = 0.14442\n",
      ">82 f() = 0.13955\n",
      ">83 f() = 0.13477\n",
      ">84 f() = 0.13007\n",
      ">85 f() = 0.12547\n",
      ">86 f() = 0.12096\n",
      ">87 f() = 0.11653\n",
      ">88 f() = 0.11219\n",
      ">89 f() = 0.10794\n",
      ">90 f() = 0.10377\n",
      ">91 f() = 0.09969\n",
      ">92 f() = 0.09569\n",
      ">93 f() = 0.09177\n",
      ">94 f() = 0.08793\n",
      ">95 f() = 0.08418\n",
      ">96 f() = 0.08050\n",
      ">97 f() = 0.07690\n",
      ">98 f() = 0.07337\n",
      ">99 f() = 0.06993\n",
      ">100 f() = 0.06656\n",
      ">101 f() = 0.06326\n",
      ">102 f() = 0.06004\n",
      ">103 f() = 0.05688\n",
      ">104 f() = 0.05381\n",
      ">105 f() = 0.05080\n",
      ">106 f() = 0.04786\n",
      ">107 f() = 0.04499\n",
      ">108 f() = 0.04219\n",
      ">109 f() = 0.03947\n",
      ">110 f() = 0.03680\n",
      ">111 f() = 0.03420\n",
      ">112 f() = 0.03167\n",
      ">113 f() = 0.02921\n",
      ">114 f() = 0.02682\n",
      ">115 f() = 0.02449\n",
      ">116 f() = 0.02222\n",
      ">117 f() = 0.02003\n",
      ">118 f() = 0.01791\n",
      ">119 f() = 0.01586\n",
      ">120 f() = 0.01389\n",
      ">121 f() = 0.01200\n",
      ">122 f() = 0.01021\n",
      ">123 f() = 0.00852\n",
      ">124 f() = 0.00697\n",
      ">125 f() = 0.00559\n",
      ">126 f() = 0.00446\n",
      ">127 f() = 0.00368\n",
      ">128 f() = 0.00335\n",
      ">129 f() = 0.00341\n",
      ">130 f() = 0.00371\n",
      ">131 f() = 0.00407\n",
      ">132 f() = 0.00440\n",
      ">133 f() = 0.00463\n",
      ">134 f() = 0.00476\n",
      ">135 f() = 0.00478\n",
      ">136 f() = 0.00469\n",
      ">137 f() = 0.00450\n",
      ">138 f() = 0.00422\n",
      ">139 f() = 0.00386\n",
      ">140 f() = 0.00344\n",
      ">141 f() = 0.00297\n",
      ">142 f() = 0.00249\n",
      ">143 f() = 0.00203\n",
      ">144 f() = 0.00164\n",
      ">145 f() = 0.00140\n",
      ">146 f() = 0.00135\n",
      ">147 f() = 0.00142\n",
      ">148 f() = 0.00153\n",
      ">149 f() = 0.00161\n",
      ">150 f() = 0.00163\n",
      ">151 f() = 0.00156\n",
      ">152 f() = 0.00144\n",
      ">153 f() = 0.00127\n",
      ">154 f() = 0.00107\n",
      ">155 f() = 0.00089\n",
      "------\n",
      "8.023977756500244\n"
     ]
    }
   ],
   "source": [
    "tic = time.time()\n",
    "_, f, xx_st = adam(ackley, 2000, 1e-3)\n",
    "toc = time.time()\n",
    "print(toc - tic)"
   ]
  },
  {
   "cell_type": "markdown",
   "id": "b66d3266-e892-4009-b814-0575fa6d513c",
   "metadata": {
    "id": "VMHAbtMRGLLE"
   },
   "source": [
    "# plotting"
   ]
  },
  {
   "cell_type": "code",
   "execution_count": 20,
   "id": "9f371fb4-559f-47ee-94e8-3cbde13406b0",
   "metadata": {},
   "outputs": [
    {
     "data": {
      "text/plain": [
       "Text(0.5, 1.0, 'ackley \\n linear scaling of execution time with dimensions')"
      ]
     },
     "execution_count": 20,
     "metadata": {},
     "output_type": "execute_result"
    },
    {
     "data": {
      "image/png": "[encoded data removed]",
      "text/plain": [
       "<Figure size 640x480 with 1 Axes>"
      ]
     },
     "metadata": {},
     "output_type": "display_data"
    }
   ],
   "source": [
    "time = np.array([0.121, 0.258, 0.492, 1.178, 1.783, 2.56, 3.4, 3.92, 4.6, 5.47, 6.18, 6.85, 14.29])\n",
    "dims = np.array([5, 10, 20, 40, 60, 80, 100, 120, 140, 160, 180, 200, 400])\n",
    "plt.plot(dims, time, 'o-')\n",
    "plt.grid()\n",
    "plt.ylabel(\"time (in sec)\")\n",
    "plt.xlabel(\"dimensions (x 1000)\")\n",
    "plt.title(\"ackley \\n linear scaling of execution time with dimensions\")"
   ]
  },
  {
   "cell_type": "code",
   "execution_count": 21,
   "id": "8f76268c-7b20-4094-9bc7-93f726979c20",
   "metadata": {
    "id": "A2fWvV4tua7o"
   },
   "outputs": [
    {
     "data": {
      "image/png": "[encoded data removed]",
      "text/plain": [
       "<Figure size 640x480 with 1 Axes>"
      ]
     },
     "metadata": {},
     "output_type": "display_data"
    }
   ],
   "source": [
    "plt.style.use('default')\n",
    "plt.plot(fXX, 'r', label = 'FINDER')\n",
    "plt.plot(fx_st,'b', label = 'Adam')\n",
    "plt.legend()\n",
    "plt.yscale('log')\n",
    "plt.xlabel(\"number of iterations\")\n",
    "plt.ylabel(\"log(f(x))\")\n",
    "plt.grid()\n",
    "plt.show()"
   ]
  },
  {
   "cell_type": "code",
   "execution_count": null,
   "id": "a8f6baa2-be81-4cdb-a647-caaaaded87d5",
   "metadata": {},
   "outputs": [],
   "source": []
  }
 ],
 "metadata": {
  "kernelspec": {
   "display_name": "Python 3 (ipykernel)",
   "language": "python",
   "name": "python3"
  },
  "language_info": {
   "codemirror_mode": {
    "name": "ipython",
    "version": 3
   },
   "file_extension": ".py",
   "mimetype": "text/x-python",
   "name": "python",
   "nbconvert_exporter": "python",
   "pygments_lexer": "ipython3",
   "version": "3.10.12"
  }
 },
 "nbformat": 4,
 "nbformat_minor": 5
}
