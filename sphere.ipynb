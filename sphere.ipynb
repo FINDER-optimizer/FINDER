{
 "cells": [
  {
   "cell_type": "markdown",
   "id": "81a40b7e-08b1-4014-9553-0a2999766333",
   "metadata": {},
   "source": [
    "## imports"
   ]
  },
  {
   "cell_type": "code",
   "execution_count": 1,
   "id": "ac8967b5-f7df-46b9-a05a-9564f50e806d",
   "metadata": {},
   "outputs": [],
   "source": [
    "import numpy as np\n",
    "from numpy import sqrt, abs, pi, exp, diag, mean, min, max, sum, eye\n",
    "from numpy.linalg import norm, inv\n",
    "import math\n",
    "import matplotlib.pyplot as plt\n",
    "import time\n",
    "import torch"
   ]
  },
  {
   "cell_type": "markdown",
   "id": "e0febfb4-adf5-4796-b559-054088174bac",
   "metadata": {
    "id": "APqhphzyQWT_"
   },
   "source": [
    "## function & derivatives"
   ]
  },
  {
   "cell_type": "code",
   "execution_count": 2,
   "id": "f772dd34-2f05-4e68-8265-9680932c6345",
   "metadata": {},
   "outputs": [],
   "source": [
    "def sphere(x):\n",
    "    return np.sum(x**2, axis = 1,dtype = 'float32')"
   ]
  },
  {
   "cell_type": "code",
   "execution_count": 3,
   "id": "32afac83-fd55-407d-88f4-1c3af7a2122b",
   "metadata": {},
   "outputs": [],
   "source": [
    "def sphere_grad(x):\n",
    "    return (2 * x).astype('float32')"
   ]
  },
  {
   "cell_type": "markdown",
   "id": "86482289-62c4-4f40-9d7a-6091e15ff467",
   "metadata": {
    "id": "AWph2lJ8Lk7E"
   },
   "source": [
    "## func, xmean, dim"
   ]
  },
  {
   "cell_type": "code",
   "execution_count": 4,
   "id": "2429cb2a-3283-4e62-b3a1-77e2e5b2e29c",
   "metadata": {
    "colab": {
     "base_uri": "https://localhost:8080/"
    },
    "id": "ddBwQEmDLj0l",
    "outputId": "110d64ad-1a55-4dfc-8648-9f75b290cbdf"
   },
   "outputs": [],
   "source": [
    "N = 5000\n",
    "strfitnessfct = sphere\n",
    "strgrad = sphere_grad\n",
    "xmean = 0.1 * np.ones((N,1)) + 0.01* np.random.randn(N,1)"
   ]
  },
  {
   "cell_type": "markdown",
   "id": "4e7fba63-842e-4fd6-a191-65abeb0a7d52",
   "metadata": {},
   "source": [
    "## initialisations"
   ]
  },
  {
   "cell_type": "code",
   "execution_count": 5,
   "id": "4d12acf5-6702-4d9b-8e06-9a331a17d30a",
   "metadata": {},
   "outputs": [],
   "source": [
    "stopfitness = 1e-3"
   ]
  },
  {
   "cell_type": "code",
   "execution_count": 6,
   "id": "07de2b21-4f95-45ff-ba53-87ee5e6849f4",
   "metadata": {},
   "outputs": [],
   "source": [
    "xmean = xmean.astype('float32')\n",
    "xmin = xmean"
   ]
  },
  {
   "cell_type": "code",
   "execution_count": 7,
   "id": "389c31f6-690a-48be-b126-6d7772f9d736",
   "metadata": {},
   "outputs": [],
   "source": [
    "R = 0.1 * np.ones((1,N))\n",
    "Γ = np.zeros((N,1), dtype = np.float32)\n",
    "p = 5\n",
    "cs = 0.1\n",
    "it = 0\n",
    "prev = 0\n",
    "θ = 0.1\n",
    "Δ = 0\n",
    "x_st = xmean\n",
    "fXX = (strfitnessfct(xmean.T))"
   ]
  },
  {
   "attachments": {},
   "cell_type": "markdown",
   "id": "39d3c61a-4331-424b-99be-0772e7bf4de3",
   "metadata": {},
   "source": [
    "## helper functions"
   ]
  },
  {
   "cell_type": "code",
   "execution_count": 8,
   "id": "becedf2b-dbb9-4136-927e-bd30069a7d5e",
   "metadata": {},
   "outputs": [],
   "source": [
    "def generate_arx(x, r, num = 5):\n",
    "    return np.concatenate([x,x + (r * (2*np.random.rand(num-1, x.shape[0])-1)).T], axis = 1)"
   ]
  },
  {
   "cell_type": "code",
   "execution_count": 9,
   "id": "dfe9e6c6-845f-4c29-b887-64a4095c503b",
   "metadata": {},
   "outputs": [],
   "source": [
    "def sorted_x_y_grad(x, grads = True):\n",
    "    if grads == True:\n",
    "        y = strfitnessfct(x.T)\n",
    "        y_grad = strgrad(x.T).T\n",
    "        \n",
    "        y_sorted = np.sort(y)\n",
    "        sorted_indices = np.argsort(y)\n",
    "        y_grad_sorted = y_grad[:,sorted_indices]\n",
    "        x_sorted = x[:, sorted_indices]\n",
    "        fittest = x_sorted[:,0:1]\n",
    "\n",
    "        return x_sorted, y_sorted[0], y_grad_sorted, fittest\n",
    "    else:\n",
    "        y = strfitnessfct(x.T)\n",
    "        y_sorted = np.sort(y)\n",
    "        sorted_indices = np.argsort(y)\n",
    "        x_sorted = x[:, sorted_indices]\n",
    "        fittest = x_sorted[:,0:1]\n",
    "        worst = x_sorted[:,-1:]\n",
    "\n",
    "        return fittest, worst, y_sorted[0]"
   ]
  },
  {
   "cell_type": "code",
   "execution_count": 10,
   "id": "d4a5b641-1b7c-4371-82af-0fc59b0087e1",
   "metadata": {},
   "outputs": [],
   "source": [
    "def calc_invH(x, x_grad, γ = 1):\n",
    "    a = x - np.mean(x, axis = 1).reshape(-1,1)\n",
    "    b = x_grad - np.mean(x_grad, axis = 1).reshape(-1,1)\n",
    "    c = np.sum(a*b, axis = 1)\n",
    "    d = np.sum(b*b, axis = 1)\n",
    "    Hinv = (c / d).reshape(-1,1)\n",
    "    Hinv = np.nan_to_num(Hinv)\n",
    "    Hinv[Hinv<0] = 0.0\n",
    "    return Hinv**γ"
   ]
  },
  {
   "cell_type": "code",
   "execution_count": 11,
   "id": "5aa57cc5-2958-416a-8901-f11837583bf3",
   "metadata": {},
   "outputs": [],
   "source": [
    "def cal_R(xmin, xmax, ps, cs = 0.1):\n",
    "    ps = (1 - cs) * ps + cs * (xmax - xmin)\n",
    "    sig = np.minimum(np.abs(ps.T), 0.01 * np.ones_like(ps.T))\n",
    "    sig[sig == 0] = 0.01\n",
    "    return sig, ps"
   ]
  },
  {
   "cell_type": "code",
   "execution_count": 12,
   "id": "7a254e1a-e3a6-4b02-8646-5065e2f5149f",
   "metadata": {},
   "outputs": [],
   "source": [
    "def update_ensemble(x, α, Δ):\n",
    "    K = Δ\n",
    "    x1 = x - α * Δ\n",
    "    return x1, K"
   ]
  },
  {
   "cell_type": "code",
   "execution_count": 13,
   "id": "ce496f65-0516-45cc-9e8b-d8801170b200",
   "metadata": {},
   "outputs": [],
   "source": [
    "def increment(K, B, G, θ=0.9):\n",
    "    return θ * K + B * G"
   ]
  },
  {
   "cell_type": "code",
   "execution_count": 14,
   "id": "0bcb85ad-392e-4b11-9c79-cc4a8276ae01",
   "metadata": {},
   "outputs": [],
   "source": [
    "def wolfe_step(g, Hg, x, loss):\n",
    "    \n",
    "    step = 0.1\n",
    "    c_1 = 0.01\n",
    "    pvec = - Hg\n",
    "    γ = 1.0\n",
    "    \n",
    "    while γ > 1e-6:\n",
    "        new_x = x.reshape(-1,1) + γ * pvec.reshape(-1,1)\n",
    "        loss_new = strfitnessfct(new_x.T)\n",
    "        g_new = strgrad(new_x.T)\n",
    "        min_loss = c_1 * γ * pvec @ g\n",
    "        armijo = loss_new - loss - min_loss\n",
    "\n",
    "        if armijo < -0:\n",
    "            step = γ\n",
    "            # x = new_x.reshape(-1,1)\n",
    "            break\n",
    "            \n",
    "        else:\n",
    "            γ *= 0.5\n",
    "        # raise RuntimeError(\"Backtracking line search failed to converge\")\n",
    "\n",
    "    return step"
   ]
  },
  {
   "cell_type": "markdown",
   "id": "31c70950-1354-4a55-a3c5-53e0ce03ef2c",
   "metadata": {},
   "source": [
    "# FINDER"
   ]
  },
  {
   "cell_type": "code",
   "execution_count": 15,
   "id": "bf566120-bde9-4596-9c5d-f3e2683f4bdb",
   "metadata": {
    "scrolled": true
   },
   "outputs": [
    {
     "name": "stdout",
     "output_type": "stream",
     "text": [
      "0 \t 50.58911 \n",
      "\n",
      "1 \t 1.5808637e-13 \n",
      "\n",
      "reached tolerance for sphere function in 0.0022 seconds\n"
     ]
    }
   ],
   "source": [
    "tic = time.time()\n",
    "while True:\n",
    "    \n",
    "    '''\n",
    "    sampling around xmean\n",
    "    '''\n",
    "    arx = generate_arx(xmin, R)\n",
    "    '''\n",
    "    gradient computation and sorting initial ensemble\n",
    "    '''\n",
    "    arx_sorted, least_fitness, gradf_sorted, xmiin = sorted_x_y_grad(arx, grads=True)\n",
    "    \n",
    "    '''\n",
    "    diagonal approximation to the stochastic mimic of the inverse Hessian\n",
    "    '''\n",
    "    B = calc_invH(arx_sorted, gradf_sorted)\n",
    "    \n",
    "    '''\n",
    "    increment term\n",
    "    '''\n",
    "    Δ_sorted = increment(prev, B, gradf_sorted, θ)\n",
    "\n",
    "    '''\n",
    "    update ensemble\n",
    "    '''\n",
    "    α = wolfe_step(gradf_sorted[:, 0], Δ_sorted[:,0], arx_sorted[:, 0], least_fitness)\n",
    "    arx_new, prev = update_ensemble(arx_sorted, α, Δ_sorted)\n",
    "    \n",
    "    '''\n",
    "    new ensemble\n",
    "    '''\n",
    "    arx_new1 = np.concatenate([arx_new, xmiin], axis = 1)\n",
    "    \n",
    "    '''\n",
    "    search radius update\n",
    "    '''\n",
    "    xmin, xmax, min_fitness = sorted_x_y_grad(arx_new1, grads=False)\n",
    "    R, Γ = cal_R(xmin, xmax, Γ)\n",
    "    \n",
    "    '''\n",
    "    storing varibales for plotting\n",
    "    '''\n",
    "    x_st = np.concatenate([x_st, xmin], axis = 1)\n",
    "    fXX = np.concatenate([fXX, np.array([min_fitness])], axis = 0)\n",
    "    \n",
    "    '''\n",
    "    iteration count update and printing\n",
    "    '''\n",
    "    if it == 0:\n",
    "        print(it, \"\\t\", fXX[it],\"\\n\")\n",
    "    it += 1\n",
    "    print(it,\"\\t\", fXX[it],\"\\n\")\n",
    "    \n",
    "    '''\n",
    "    termination criteria\n",
    "    '''\n",
    "    if fXX[-1] <= stopfitness:\n",
    "        break\n",
    "\n",
    "toc = time.time()\n",
    "print(\"reached tolerance for sphere function in {:.4f} seconds\".format(toc - tic))"
   ]
  },
  {
   "cell_type": "markdown",
   "id": "8cacfed4-dd79-45d8-b286-3bf659064288",
   "metadata": {},
   "source": [
    "# Adam"
   ]
  },
  {
   "cell_type": "code",
   "execution_count": 16,
   "id": "4d43fa74-f090-4e33-9064-023787f89908",
   "metadata": {},
   "outputs": [],
   "source": [
    "from numpy.random import rand\n",
    "from numpy import sqrt\n",
    "\n",
    "fx_st = []\n",
    "def adam(objective, n_iter, alpha, beta1 = 0.9, beta2 = 0.999, eps=1e-8):\n",
    "    # generate an initial point\n",
    "    global xx_st\n",
    "    xx_st = xmean\n",
    "\n",
    "    x = xmean.copy()  # Initialize with random values\n",
    "    score = strfitnessfct(x.T)\n",
    "    \n",
    "    # initialize first and second moments\n",
    "    m = [0.0 for _ in range(len(x))]\n",
    "    v = [0.0 for _ in range(len(x))]\n",
    "\n",
    "    for t in range(n_iter):\n",
    "        g = strgrad(x.T)\n",
    "        g = g.T\n",
    "        \n",
    "        for i in range(len(x)):\n",
    "            m[i] = beta1 * m[i] + (1.0 - beta1) * g[i]\n",
    "            v[i] = beta2 * v[i] + (1.0 - beta2) * g[i]**2\n",
    "            \n",
    "            mhat = m[i] / (1.0 - beta1**(t+1))\n",
    "            vhat = v[i] / (1.0 - beta2**(t+1))\n",
    "            \n",
    "            x[i] = x[i] - alpha * mhat / (sqrt(vhat) + eps)\n",
    "            \n",
    "        # evaluate candidate point\n",
    "        score = strfitnessfct(x.T)\n",
    "        fx_st.append(score)\n",
    "        xx_st = np.concatenate([xx_st, x], axis = 1)\n",
    "    \n",
    "        # report progress\n",
    "        print('>%d f() = %.5f' % (t, score))\n",
    "        if score < 1e-3:\n",
    "            print(\"------\")\n",
    "            break\n",
    "    \n",
    "    return [x, score, xx_st]\n"
   ]
  },
  {
   "cell_type": "code",
   "execution_count": 17,
   "id": "0e6b9b29-4b4b-4bba-80ec-b59b4fa39e2d",
   "metadata": {
    "scrolled": true
   },
   "outputs": [
    {
     "name": "stderr",
     "output_type": "stream",
     "text": [
      "/tmp/ipykernel_3610914/1678516617.py:36: DeprecationWarning: Conversion of an array with ndim > 0 to a scalar is deprecated, and will error in future. Ensure you extract a single element from your array before performing this operation. (Deprecated NumPy 1.25.)\n",
      "  print('>%d f() = %.5f' % (t, score))\n"
     ]
    },
    {
     "name": "stdout",
     "output_type": "stream",
     "text": [
      ">0 f() = 49.59313\n",
      ">1 f() = 48.60742\n",
      ">2 f() = 47.63215\n",
      ">3 f() = 46.66750\n",
      ">4 f() = 45.71360\n",
      ">5 f() = 44.77063\n",
      ">6 f() = 43.83873\n",
      ">7 f() = 42.91804\n",
      ">8 f() = 42.00868\n",
      ">9 f() = 41.11079\n",
      ">10 f() = 40.22447\n",
      ">11 f() = 39.34983\n",
      ">12 f() = 38.48697\n",
      ">13 f() = 37.63598\n",
      ">14 f() = 36.79693\n",
      ">15 f() = 35.96989\n",
      ">16 f() = 35.15493\n",
      ">17 f() = 34.35209\n",
      ">18 f() = 33.56141\n",
      ">19 f() = 32.78292\n",
      ">20 f() = 32.01665\n",
      ">21 f() = 31.26262\n",
      ">22 f() = 30.52082\n",
      ">23 f() = 29.79126\n",
      ">24 f() = 29.07392\n",
      ">25 f() = 28.36877\n",
      ">26 f() = 27.67580\n",
      ">27 f() = 26.99496\n",
      ">28 f() = 26.32621\n",
      ">29 f() = 25.66950\n",
      ">30 f() = 25.02478\n",
      ">31 f() = 24.39197\n",
      ">32 f() = 23.77102\n",
      ">33 f() = 23.16183\n",
      ">34 f() = 22.56433\n",
      ">35 f() = 21.97844\n",
      ">36 f() = 21.40405\n",
      ">37 f() = 20.84108\n",
      ">38 f() = 20.28942\n",
      ">39 f() = 19.74896\n",
      ">40 f() = 19.21959\n",
      ">41 f() = 18.70121\n",
      ">42 f() = 18.19369\n",
      ">43 f() = 17.69692\n",
      ">44 f() = 17.21077\n",
      ">45 f() = 16.73511\n",
      ">46 f() = 16.26982\n",
      ">47 f() = 15.81477\n",
      ">48 f() = 15.36982\n",
      ">49 f() = 14.93485\n",
      ">50 f() = 14.50971\n",
      ">51 f() = 14.09428\n",
      ">52 f() = 13.68840\n",
      ">53 f() = 13.29195\n",
      ">54 f() = 12.90478\n",
      ">55 f() = 12.52675\n",
      ">56 f() = 12.15772\n",
      ">57 f() = 11.79755\n",
      ">58 f() = 11.44610\n",
      ">59 f() = 11.10323\n",
      ">60 f() = 10.76878\n",
      ">61 f() = 10.44263\n",
      ">62 f() = 10.12462\n",
      ">63 f() = 9.81462\n",
      ">64 f() = 9.51249\n",
      ">65 f() = 9.21807\n",
      ">66 f() = 8.93124\n",
      ">67 f() = 8.65186\n",
      ">68 f() = 8.37978\n",
      ">69 f() = 8.11486\n",
      ">70 f() = 7.85697\n",
      ">71 f() = 7.60597\n",
      ">72 f() = 7.36172\n",
      ">73 f() = 7.12410\n",
      ">74 f() = 6.89296\n",
      ">75 f() = 6.66817\n",
      ">76 f() = 6.44960\n",
      ">77 f() = 6.23713\n",
      ">78 f() = 6.03062\n",
      ">79 f() = 5.82994\n",
      ">80 f() = 5.63497\n",
      ">81 f() = 5.44559\n",
      ">82 f() = 5.26166\n",
      ">83 f() = 5.08308\n",
      ">84 f() = 4.90970\n",
      ">85 f() = 4.74143\n",
      ">86 f() = 4.57814\n",
      ">87 f() = 4.41970\n",
      ">88 f() = 4.26602\n",
      ">89 f() = 4.11698\n",
      ">90 f() = 3.97246\n",
      ">91 f() = 3.83235\n",
      ">92 f() = 3.69655\n",
      ">93 f() = 3.56495\n",
      ">94 f() = 3.43745\n",
      ">95 f() = 3.31394\n",
      ">96 f() = 3.19432\n",
      ">97 f() = 3.07849\n",
      ">98 f() = 2.96635\n",
      ">99 f() = 2.85781\n",
      ">100 f() = 2.75277\n",
      ">101 f() = 2.65114\n",
      ">102 f() = 2.55282\n",
      ">103 f() = 2.45774\n",
      ">104 f() = 2.36579\n",
      ">105 f() = 2.27690\n",
      ">106 f() = 2.19097\n",
      ">107 f() = 2.10793\n",
      ">108 f() = 2.02770\n",
      ">109 f() = 1.95019\n",
      ">110 f() = 1.87532\n",
      ">111 f() = 1.80303\n",
      ">112 f() = 1.73323\n",
      ">113 f() = 1.66585\n",
      ">114 f() = 1.60082\n",
      ">115 f() = 1.53808\n",
      ">116 f() = 1.47755\n",
      ">117 f() = 1.41916\n",
      ">118 f() = 1.36285\n",
      ">119 f() = 1.30856\n",
      ">120 f() = 1.25622\n",
      ">121 f() = 1.20578\n",
      ">122 f() = 1.15717\n",
      ">123 f() = 1.11034\n",
      ">124 f() = 1.06523\n",
      ">125 f() = 1.02178\n",
      ">126 f() = 0.97994\n",
      ">127 f() = 0.93967\n",
      ">128 f() = 0.90090\n",
      ">129 f() = 0.86359\n",
      ">130 f() = 0.82769\n",
      ">131 f() = 0.79316\n",
      ">132 f() = 0.75994\n",
      ">133 f() = 0.72800\n",
      ">134 f() = 0.69728\n",
      ">135 f() = 0.66776\n",
      ">136 f() = 0.63938\n",
      ">137 f() = 0.61212\n",
      ">138 f() = 0.58592\n",
      ">139 f() = 0.56075\n",
      ">140 f() = 0.53658\n",
      ">141 f() = 0.51337\n",
      ">142 f() = 0.49109\n",
      ">143 f() = 0.46970\n",
      ">144 f() = 0.44917\n",
      ">145 f() = 0.42947\n",
      ">146 f() = 0.41057\n",
      ">147 f() = 0.39244\n",
      ">148 f() = 0.37506\n",
      ">149 f() = 0.35839\n",
      ">150 f() = 0.34240\n",
      ">151 f() = 0.32708\n",
      ">152 f() = 0.31240\n",
      ">153 f() = 0.29833\n",
      ">154 f() = 0.28485\n",
      ">155 f() = 0.27194\n",
      ">156 f() = 0.25958\n",
      ">157 f() = 0.24774\n",
      ">158 f() = 0.23640\n",
      ">159 f() = 0.22555\n",
      ">160 f() = 0.21516\n",
      ">161 f() = 0.20523\n",
      ">162 f() = 0.19572\n",
      ">163 f() = 0.18662\n",
      ">164 f() = 0.17793\n",
      ">165 f() = 0.16961\n",
      ">166 f() = 0.16166\n",
      ">167 f() = 0.15405\n",
      ">168 f() = 0.14679\n",
      ">169 f() = 0.13984\n",
      ">170 f() = 0.13321\n",
      ">171 f() = 0.12687\n",
      ">172 f() = 0.12082\n",
      ">173 f() = 0.11504\n",
      ">174 f() = 0.10952\n",
      ">175 f() = 0.10425\n",
      ">176 f() = 0.09921\n",
      ">177 f() = 0.09441\n",
      ">178 f() = 0.08983\n",
      ">179 f() = 0.08546\n",
      ">180 f() = 0.08129\n",
      ">181 f() = 0.07731\n",
      ">182 f() = 0.07352\n",
      ">183 f() = 0.06990\n",
      ">184 f() = 0.06646\n",
      ">185 f() = 0.06317\n",
      ">186 f() = 0.06004\n",
      ">187 f() = 0.05705\n",
      ">188 f() = 0.05421\n",
      ">189 f() = 0.05150\n",
      ">190 f() = 0.04892\n",
      ">191 f() = 0.04647\n",
      ">192 f() = 0.04413\n",
      ">193 f() = 0.04190\n",
      ">194 f() = 0.03978\n",
      ">195 f() = 0.03776\n",
      ">196 f() = 0.03584\n",
      ">197 f() = 0.03401\n",
      ">198 f() = 0.03228\n",
      ">199 f() = 0.03062\n",
      ">200 f() = 0.02905\n",
      ">201 f() = 0.02755\n",
      ">202 f() = 0.02613\n",
      ">203 f() = 0.02478\n",
      ">204 f() = 0.02350\n",
      ">205 f() = 0.02228\n",
      ">206 f() = 0.02112\n",
      ">207 f() = 0.02001\n",
      ">208 f() = 0.01897\n",
      ">209 f() = 0.01797\n",
      ">210 f() = 0.01703\n",
      ">211 f() = 0.01613\n",
      ">212 f() = 0.01528\n",
      ">213 f() = 0.01447\n",
      ">214 f() = 0.01370\n",
      ">215 f() = 0.01298\n",
      ">216 f() = 0.01229\n",
      ">217 f() = 0.01163\n",
      ">218 f() = 0.01101\n",
      ">219 f() = 0.01042\n",
      ">220 f() = 0.00986\n",
      ">221 f() = 0.00933\n",
      ">222 f() = 0.00883\n",
      ">223 f() = 0.00835\n",
      ">224 f() = 0.00790\n",
      ">225 f() = 0.00747\n",
      ">226 f() = 0.00706\n",
      ">227 f() = 0.00668\n",
      ">228 f() = 0.00631\n",
      ">229 f() = 0.00597\n",
      ">230 f() = 0.00564\n",
      ">231 f() = 0.00533\n",
      ">232 f() = 0.00504\n",
      ">233 f() = 0.00476\n",
      ">234 f() = 0.00450\n",
      ">235 f() = 0.00425\n",
      ">236 f() = 0.00401\n",
      ">237 f() = 0.00379\n",
      ">238 f() = 0.00358\n",
      ">239 f() = 0.00338\n",
      ">240 f() = 0.00319\n",
      ">241 f() = 0.00301\n",
      ">242 f() = 0.00284\n",
      ">243 f() = 0.00268\n",
      ">244 f() = 0.00253\n",
      ">245 f() = 0.00239\n",
      ">246 f() = 0.00226\n",
      ">247 f() = 0.00213\n",
      ">248 f() = 0.00201\n",
      ">249 f() = 0.00189\n",
      ">250 f() = 0.00179\n",
      ">251 f() = 0.00168\n",
      ">252 f() = 0.00159\n",
      ">253 f() = 0.00150\n",
      ">254 f() = 0.00141\n",
      ">255 f() = 0.00133\n",
      ">256 f() = 0.00125\n",
      ">257 f() = 0.00118\n",
      ">258 f() = 0.00111\n",
      ">259 f() = 0.00105\n",
      ">260 f() = 0.00099\n",
      "------\n",
      "13.4776771068573\n"
     ]
    }
   ],
   "source": [
    "tic = time.time()\n",
    "_, f, xx_st_001 = adam(sphere, 2000, 1e-3)\n",
    "toc = time.time()\n",
    "print(toc - tic)"
   ]
  },
  {
   "cell_type": "markdown",
   "id": "b66d3266-e892-4009-b814-0575fa6d513c",
   "metadata": {
    "id": "VMHAbtMRGLLE"
   },
   "source": [
    "# plotting"
   ]
  },
  {
   "cell_type": "code",
   "execution_count": 18,
   "id": "8f76268c-7b20-4094-9bc7-93f726979c20",
   "metadata": {
    "id": "A2fWvV4tua7o"
   },
   "outputs": [
    {
     "data": {
      "image/png": "[encoded data removed]",
      "text/plain": [
       "<Figure size 640x480 with 1 Axes>"
      ]
     },
     "metadata": {},
     "output_type": "display_data"
    }
   ],
   "source": [
    "plt.style.use('default')\n",
    "plt.plot(fXX,'r', label = 'FINDER')\n",
    "plt.plot(fx_st,'b', label='Adam')\n",
    "plt.yscale('log')\n",
    "plt.legend()\n",
    "plt.xlabel(\"number of iterations\")\n",
    "plt.ylabel(\"log(f(x))\")\n",
    "plt.grid()\n",
    "plt.show()"
   ]
  }
 ],
 "metadata": {
  "kernelspec": {
   "display_name": "Python 3 (ipykernel)",
   "language": "python",
   "name": "python3"
  },
  "language_info": {
   "codemirror_mode": {
    "name": "ipython",
    "version": 3
   },
   "file_extension": ".py",
   "mimetype": "text/x-python",
   "name": "python",
   "nbconvert_exporter": "python",
   "pygments_lexer": "ipython3",
   "version": "3.10.12"
  }
 },
 "nbformat": 4,
 "nbformat_minor": 5
}
