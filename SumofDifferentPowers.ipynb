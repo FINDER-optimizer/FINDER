{
 "cells": [
  {
   "cell_type": "markdown",
   "id": "81a40b7e-08b1-4014-9553-0a2999766333",
   "metadata": {},
   "source": [
    "## imports"
   ]
  },
  {
   "cell_type": "code",
   "execution_count": 1,
   "id": "ac8967b5-f7df-46b9-a05a-9564f50e806d",
   "metadata": {},
   "outputs": [],
   "source": [
    "import numpy as np\n",
    "from numpy import sqrt, abs, pi, exp, diag, mean, min, max, sum, eye\n",
    "from numpy.linalg import norm, inv\n",
    "import math\n",
    "import matplotlib.pyplot as plt\n",
    "import time"
   ]
  },
  {
   "cell_type": "code",
   "execution_count": 2,
   "id": "0a8068e6-cbcf-465d-a7ff-282fade83d11",
   "metadata": {},
   "outputs": [],
   "source": [
    "import torch"
   ]
  },
  {
   "cell_type": "markdown",
   "id": "e0febfb4-adf5-4796-b559-054088174bac",
   "metadata": {
    "id": "APqhphzyQWT_"
   },
   "source": [
    "## function & derivatives"
   ]
  },
  {
   "cell_type": "code",
   "execution_count": 3,
   "id": "86590d1a-244d-47a8-8089-675ec8d0f922",
   "metadata": {},
   "outputs": [],
   "source": [
    "def F03(x):\n",
    "    # SumOfDifferentPowers\n",
    "    n = x.shape[0]\n",
    "    d = x.shape[1]\n",
    "    f = np.sum(np.abs(x)**(np.arange(1, d+1) + 1), axis = 1)\n",
    "    return f.astype('float32')"
   ]
  },
  {
   "cell_type": "code",
   "execution_count": 4,
   "id": "b1a176b3-05a8-47a5-9e2d-4461c81aa0d9",
   "metadata": {},
   "outputs": [],
   "source": [
    "def F03_grad(x):\n",
    "    d = x.shape[1]\n",
    "    gradf = (np.arange(1, d+1) + 1).reshape(1,-1) * np.abs(x)**(np.arange(1, d + 1)) * np.sign(x)\n",
    "    return gradf.astype('float32')"
   ]
  },
  {
   "cell_type": "markdown",
   "id": "86482289-62c4-4f40-9d7a-6091e15ff467",
   "metadata": {
    "id": "AWph2lJ8Lk7E"
   },
   "source": [
    "## func, xmean, dim"
   ]
  },
  {
   "cell_type": "code",
   "execution_count": 5,
   "id": "2429cb2a-3283-4e62-b3a1-77e2e5b2e29c",
   "metadata": {
    "colab": {
     "base_uri": "https://localhost:8080/"
    },
    "id": "ddBwQEmDLj0l",
    "outputId": "110d64ad-1a55-4dfc-8648-9f75b290cbdf"
   },
   "outputs": [],
   "source": [
    "N = 5000\n",
    "strfitnessfct = F03\n",
    "strgrad = F03_grad\n",
    "xmean = 0.1 * np.ones((N,1)) + 0.01* np.random.randn(N,1)\n"
   ]
  },
  {
   "cell_type": "code",
   "execution_count": 6,
   "id": "00d9e06c-ca2d-4b32-bdeb-12b0ab6f4167",
   "metadata": {},
   "outputs": [
    {
     "data": {
      "text/plain": [
       "(5000, 1)"
      ]
     },
     "execution_count": 6,
     "metadata": {},
     "output_type": "execute_result"
    }
   ],
   "source": [
    "xmean.shape"
   ]
  },
  {
   "cell_type": "markdown",
   "id": "4e7fba63-842e-4fd6-a191-65abeb0a7d52",
   "metadata": {},
   "source": [
    "## initialisations"
   ]
  },
  {
   "cell_type": "code",
   "execution_count": 7,
   "id": "4d12acf5-6702-4d9b-8e06-9a331a17d30a",
   "metadata": {},
   "outputs": [],
   "source": [
    "stopfitness = 1e-3"
   ]
  },
  {
   "cell_type": "code",
   "execution_count": 8,
   "id": "07de2b21-4f95-45ff-ba53-87ee5e6849f4",
   "metadata": {},
   "outputs": [],
   "source": [
    "xmean = xmean.astype('float32')\n",
    "xmin = xmean"
   ]
  },
  {
   "cell_type": "code",
   "execution_count": 9,
   "id": "389c31f6-690a-48be-b126-6d7772f9d736",
   "metadata": {},
   "outputs": [],
   "source": [
    "R = 0.1 * np.ones((1,N))\n",
    "Γ = np.zeros((N,1), dtype = np.float32)\n",
    "p = 5\n",
    "cs = 0.1\n",
    "it = 0\n",
    "prev = 0\n",
    "θ = 0.1\n",
    "Δ = 0\n",
    "x_st = xmean\n",
    "fXX = (strfitnessfct(xmean.T))"
   ]
  },
  {
   "cell_type": "markdown",
   "id": "4c487bbc-af99-40a1-bcd0-874054564093",
   "metadata": {},
   "source": [
    "## helper functions"
   ]
  },
  {
   "cell_type": "code",
   "execution_count": 10,
   "id": "c9328a32-ba96-4103-810a-c309d7997f23",
   "metadata": {},
   "outputs": [],
   "source": [
    "def generate_arx(x, r, num = 5):\n",
    "    return np.concatenate([x,x + (r * (2*np.random.rand(num-1, x.shape[0])-1)).T], axis = 1)"
   ]
  },
  {
   "cell_type": "code",
   "execution_count": 11,
   "id": "28702f98-80ba-411a-ac57-3fb3f7320093",
   "metadata": {},
   "outputs": [],
   "source": [
    "def sorted_x_y_grad(x, grads = True):\n",
    "    if grads == True:\n",
    "        y = strfitnessfct(x.T)\n",
    "        y_grad = strgrad(x.T).T\n",
    "        \n",
    "        y_sorted = np.sort(y)\n",
    "        sorted_indices = np.argsort(y)\n",
    "        y_grad_sorted = y_grad[:,sorted_indices]\n",
    "        x_sorted = x[:, sorted_indices]\n",
    "        fittest = x_sorted[:,0:1]\n",
    "\n",
    "        return x_sorted, y_sorted[0], y_grad_sorted, fittest\n",
    "    else:\n",
    "        y = strfitnessfct(x.T)\n",
    "        y_sorted = np.sort(y)\n",
    "        sorted_indices = np.argsort(y)\n",
    "        x_sorted = x[:, sorted_indices]\n",
    "        fittest = x_sorted[:,0:1]\n",
    "        worst = x_sorted[:,-1:]\n",
    "\n",
    "        return fittest, worst, y_sorted[0]"
   ]
  },
  {
   "cell_type": "code",
   "execution_count": 12,
   "id": "60139fb5-a6de-46cc-bd82-ac5be4579c23",
   "metadata": {},
   "outputs": [],
   "source": [
    "def calc_invH(x, x_grad, γ = 1):\n",
    "    a = x - np.mean(x, axis = 1).reshape(-1,1)\n",
    "    b = x_grad - np.mean(x_grad, axis = 1).reshape(-1,1)\n",
    "    c = np.sum(a*b, axis = 1)\n",
    "    d = np.sum(b*b, axis = 1)\n",
    "    Hinv = (c / d).reshape(-1,1)\n",
    "    Hinv = np.nan_to_num(Hinv)\n",
    "    Hinv[Hinv<0] = 0.0\n",
    "    return Hinv**γ"
   ]
  },
  {
   "cell_type": "code",
   "execution_count": 13,
   "id": "16629628-bc61-435d-8a1e-a1a2508bc613",
   "metadata": {},
   "outputs": [],
   "source": [
    "def cal_R(xmin, xmax, ps, cs = 0.1):\n",
    "    ps = (1 - cs) * ps + cs * (xmax - xmin)\n",
    "    sig = np.minimum(np.abs(ps.T), 0.01 * np.ones_like(ps.T))\n",
    "    sig[sig == 0] = 0.01\n",
    "    return sig, ps"
   ]
  },
  {
   "cell_type": "code",
   "execution_count": 14,
   "id": "b52f6bdd-de17-419b-acce-19b14c6d63af",
   "metadata": {},
   "outputs": [],
   "source": [
    "def update_ensemble(x, α, Δ):\n",
    "    K = Δ\n",
    "    x1 = x - α * Δ\n",
    "    return x1, K"
   ]
  },
  {
   "cell_type": "code",
   "execution_count": 15,
   "id": "23d7ada5-e5d6-47fc-95ab-33ab8c39f81f",
   "metadata": {},
   "outputs": [],
   "source": [
    "def increment(K, B, G, θ=0.9):\n",
    "    return θ * K + B * G"
   ]
  },
  {
   "cell_type": "code",
   "execution_count": 16,
   "id": "0bcb85ad-392e-4b11-9c79-cc4a8276ae01",
   "metadata": {},
   "outputs": [],
   "source": [
    "def wolfe_step(g, Hg, x, loss):\n",
    "    \n",
    "    step = 0.1\n",
    "    c_1 = 0.01\n",
    "    pvec = - Hg\n",
    "    γ = 1.0\n",
    "    \n",
    "    while γ > 1e-6:\n",
    "        new_x = x.reshape(-1,1) + γ * pvec.reshape(-1,1)\n",
    "        loss_new = strfitnessfct(new_x.T)\n",
    "        g_new = strgrad(new_x.T)\n",
    "        min_loss = c_1 * γ * pvec @ g\n",
    "        armijo = loss_new - loss - min_loss\n",
    "\n",
    "        if armijo < -0:\n",
    "            step = γ\n",
    "            x = new_x.reshape(-1,1)\n",
    "            break\n",
    "            \n",
    "        else:\n",
    "            γ *= 0.5\n",
    "        # raise RuntimeError(\"Backtracking line search failed to converge\")\n",
    "\n",
    "    return step"
   ]
  },
  {
   "cell_type": "markdown",
   "id": "31c70950-1354-4a55-a3c5-53e0ce03ef2c",
   "metadata": {},
   "source": [
    "# FINDER"
   ]
  },
  {
   "cell_type": "code",
   "execution_count": 17,
   "id": "db2aef0d-e4ea-44e7-98f5-a670edf97d52",
   "metadata": {},
   "outputs": [
    {
     "name": "stdout",
     "output_type": "stream",
     "text": [
      "0 \t 0.014951386 \n",
      "\n",
      "1 \t 0.00233211 \n",
      "\n",
      "2 \t 0.0016429239 \n",
      "\n",
      "3 \t 0.0015752288 \n",
      "\n",
      "4 \t 0.001409086 \n",
      "\n",
      "5 \t 0.00123564 \n",
      "\n",
      "6 \t 0.001140217 \n",
      "\n",
      "7 \t 0.0010028759 \n",
      "\n",
      "8 \t 0.0010028759 \n",
      "\n",
      "9 \t 0.0010028759 \n",
      "\n",
      "10 \t 0.00096258585 \n",
      "\n",
      "finished training in  0.06308889389038086  seconds\n"
     ]
    },
    {
     "name": "stderr",
     "output_type": "stream",
     "text": [
      "/tmp/ipykernel_3609846/1061633993.py:6: RuntimeWarning: divide by zero encountered in divide\n",
      "  Hinv = (c / d).reshape(-1,1)\n",
      "/tmp/ipykernel_3609846/1061633993.py:6: RuntimeWarning: invalid value encountered in divide\n",
      "  Hinv = (c / d).reshape(-1,1)\n",
      "/tmp/ipykernel_3609846/57268989.py:5: RuntimeWarning: overflow encountered in power\n",
      "  f = np.sum(np.abs(x)**(np.arange(1, d+1) + 1), axis = 1)\n",
      "/tmp/ipykernel_3609846/1618647567.py:3: RuntimeWarning: overflow encountered in power\n",
      "  gradf = (np.arange(1, d+1) + 1).reshape(1,-1) * np.abs(x)**(np.arange(1, d + 1)) * np.sign(x)\n"
     ]
    }
   ],
   "source": [
    "tic = time.time()\n",
    "while True:\n",
    "    \n",
    "    '''\n",
    "    sampling around xmean\n",
    "    '''\n",
    "    arx = generate_arx(xmin, R)\n",
    "    '''\n",
    "    gradient computation and sorting initial ensemble\n",
    "    '''\n",
    "    arx_sorted, least_fitness, gradf_sorted, xmiin = sorted_x_y_grad(arx, grads=True)\n",
    "    \n",
    "    '''\n",
    "    diagonal approximation to the stochastic mimic of the inverse Hessian\n",
    "    '''\n",
    "    B = calc_invH(arx_sorted, gradf_sorted)\n",
    "    \n",
    "    '''\n",
    "    increment term\n",
    "    '''\n",
    "    Δ_sorted = increment(prev, B, gradf_sorted, θ)\n",
    "\n",
    "    '''\n",
    "    update ensemble\n",
    "    '''\n",
    "    α = wolfe_step(gradf_sorted[:, 0], Δ_sorted[:,0], arx_sorted[:, 0], least_fitness)\n",
    "    arx_new, prev = update_ensemble(arx_sorted, α, Δ_sorted)\n",
    "    \n",
    "    '''\n",
    "    new ensemble\n",
    "    '''\n",
    "    arx_new1 = np.concatenate([arx_new, xmiin], axis = 1)\n",
    "    \n",
    "    '''\n",
    "    search radius update\n",
    "    '''\n",
    "    xmin, xmax, min_fitness = sorted_x_y_grad(arx_new1, grads=False)\n",
    "    R, Γ = cal_R(xmin, xmax, Γ)\n",
    "    \n",
    "    '''\n",
    "    storing varibales for plotting\n",
    "    '''\n",
    "    x_st = np.concatenate([x_st, xmin], axis = 1)\n",
    "    fXX = np.concatenate([fXX, np.array([min_fitness])], axis = 0)\n",
    "    \n",
    "    '''\n",
    "    iteration count update and printing\n",
    "    '''\n",
    "    if it == 0:\n",
    "        print(it, \"\\t\", fXX[it],\"\\n\")\n",
    "    it += 1\n",
    "    print(it,\"\\t\", fXX[it],\"\\n\")\n",
    "    \n",
    "    '''\n",
    "    termination criteria\n",
    "    '''\n",
    "    if fXX[-1] <= stopfitness:\n",
    "        break\n",
    "toc = time.time()\n",
    "print(\"finished training in \",toc-tic,\" seconds\")"
   ]
  },
  {
   "cell_type": "code",
   "execution_count": 18,
   "id": "d45e2670-20ec-40ed-a4ef-0cc4d70cb93a",
   "metadata": {},
   "outputs": [],
   "source": [
    "torch.save(torch.Tensor(fXX), 'SumofDifferentPowers_optim_fX.pt')"
   ]
  },
  {
   "cell_type": "code",
   "execution_count": 19,
   "id": "4f9cb321-bc7f-4538-af1b-01070c3ce669",
   "metadata": {},
   "outputs": [],
   "source": [
    "torch.save(torch.Tensor(x_st), 'SumofDifferentPowers_optim_X.pt')"
   ]
  },
  {
   "cell_type": "markdown",
   "id": "8cacfed4-dd79-45d8-b286-3bf659064288",
   "metadata": {},
   "source": [
    "# Adam"
   ]
  },
  {
   "cell_type": "code",
   "execution_count": 20,
   "id": "4d43fa74-f090-4e33-9064-023787f89908",
   "metadata": {},
   "outputs": [],
   "source": [
    "from numpy.random import rand\n",
    "from numpy import sqrt\n",
    "fx_st = []\n",
    "def adam(objective, n_iter, alpha, beta1 = 0.9, beta2 = 0.999, eps=1e-8):\n",
    "    # generate an initial point\n",
    "    global xx_st\n",
    "    xx_st = xmean\n",
    "\n",
    "    x = xmean.copy()  # Initialize with random values\n",
    "    score = strfitnessfct(x.T)\n",
    "    # initialize first and second moments\n",
    "    m = [0.0 for _ in range(len(x))]\n",
    "    v = [0.0 for _ in range(len(x))]\n",
    "    # run the gradient descent updates\n",
    "    for t in range(n_iter):\n",
    "        # calculate gradient g(t)\n",
    "        g = strgrad(x.T)\n",
    "        g = g.T\n",
    "        # build a solution one variable at a time\n",
    "        \n",
    "        for i in range(len(x)):\n",
    "            # m(t) = beta1 * m(t-1) + (1 - beta1) * g(t)\n",
    "            m[i] = beta1 * m[i] + (1.0 - beta1) * g[i]\n",
    "            # v(t) = beta2 * v(t-1) + (1 - beta2) * g(t)^2\n",
    "            v[i] = beta2 * v[i] + (1.0 - beta2) * g[i]**2\n",
    "            # mhat(t) = m(t) / (1 - beta1(t))\n",
    "            mhat = m[i] / (1.0 - beta1**(t+1))\n",
    "            # vhat(t) = v(t) / (1 - beta2(t))\n",
    "            vhat = v[i] / (1.0 - beta2**(t+1))\n",
    "            # x(t) = x(t-1) - alpha * mhat(t) / (sqrt(vhat(t)) + eps)\n",
    "            x[i] = x[i] - alpha * mhat / (sqrt(vhat) + eps)\n",
    "        # evaluate candidate point\n",
    "        score = strfitnessfct(x.T)\n",
    "        fx_st.append(score)\n",
    "        xx_st = np.concatenate([xx_st, x], axis = 1)\n",
    "        # report progress\n",
    "        print('Epoch [%d] f(x) = %.6f' % (t, score))\n",
    "        if score < 1e-3:\n",
    "            print(\"------\")\n",
    "            break\n",
    "    \n",
    "    return [x, score, xx_st]\n"
   ]
  },
  {
   "cell_type": "code",
   "execution_count": 21,
   "id": "0e6b9b29-4b4b-4bba-80ec-b59b4fa39e2d",
   "metadata": {
    "scrolled": true
   },
   "outputs": [
    {
     "name": "stderr",
     "output_type": "stream",
     "text": [
      "/tmp/ipykernel_3609846/1841169771.py:37: DeprecationWarning: Conversion of an array with ndim > 0 to a scalar is deprecated, and will error in future. Ensure you extract a single element from your array before performing this operation. (Deprecated NumPy 1.25.)\n",
      "  print('Epoch [%d] f(x) = %.6f' % (t, score))\n"
     ]
    },
    {
     "name": "stdout",
     "output_type": "stream",
     "text": [
      "Epoch [0] f(x) = 0.014684\n",
      "Epoch [1] f(x) = 0.014419\n",
      "Epoch [2] f(x) = 0.014157\n",
      "Epoch [3] f(x) = 0.013898\n",
      "Epoch [4] f(x) = 0.013642\n",
      "Epoch [5] f(x) = 0.013389\n",
      "Epoch [6] f(x) = 0.013139\n",
      "Epoch [7] f(x) = 0.012892\n",
      "Epoch [8] f(x) = 0.012648\n",
      "Epoch [9] f(x) = 0.012407\n",
      "Epoch [10] f(x) = 0.012169\n",
      "Epoch [11] f(x) = 0.011934\n",
      "Epoch [12] f(x) = 0.011702\n",
      "Epoch [13] f(x) = 0.011473\n",
      "Epoch [14] f(x) = 0.011247\n",
      "Epoch [15] f(x) = 0.011024\n",
      "Epoch [16] f(x) = 0.010805\n",
      "Epoch [17] f(x) = 0.010589\n",
      "Epoch [18] f(x) = 0.010375\n",
      "Epoch [19] f(x) = 0.010165\n",
      "Epoch [20] f(x) = 0.009958\n",
      "Epoch [21] f(x) = 0.009754\n",
      "Epoch [22] f(x) = 0.009553\n",
      "Epoch [23] f(x) = 0.009355\n",
      "Epoch [24] f(x) = 0.009160\n",
      "Epoch [25] f(x) = 0.008969\n",
      "Epoch [26] f(x) = 0.008780\n",
      "Epoch [27] f(x) = 0.008594\n",
      "Epoch [28] f(x) = 0.008412\n",
      "Epoch [29] f(x) = 0.008232\n",
      "Epoch [30] f(x) = 0.008055\n",
      "Epoch [31] f(x) = 0.007881\n",
      "Epoch [32] f(x) = 0.007710\n",
      "Epoch [33] f(x) = 0.007542\n",
      "Epoch [34] f(x) = 0.007377\n",
      "Epoch [35] f(x) = 0.007215\n",
      "Epoch [36] f(x) = 0.007055\n",
      "Epoch [37] f(x) = 0.006899\n",
      "Epoch [38] f(x) = 0.006745\n",
      "Epoch [39] f(x) = 0.006593\n",
      "Epoch [40] f(x) = 0.006445\n",
      "Epoch [41] f(x) = 0.006299\n",
      "Epoch [42] f(x) = 0.006155\n",
      "Epoch [43] f(x) = 0.006015\n",
      "Epoch [44] f(x) = 0.005877\n",
      "Epoch [45] f(x) = 0.005741\n",
      "Epoch [46] f(x) = 0.005608\n",
      "Epoch [47] f(x) = 0.005477\n",
      "Epoch [48] f(x) = 0.005349\n",
      "Epoch [49] f(x) = 0.005223\n",
      "Epoch [50] f(x) = 0.005100\n",
      "Epoch [51] f(x) = 0.004979\n",
      "Epoch [52] f(x) = 0.004860\n",
      "Epoch [53] f(x) = 0.004744\n",
      "Epoch [54] f(x) = 0.004630\n",
      "Epoch [55] f(x) = 0.004518\n",
      "Epoch [56] f(x) = 0.004408\n",
      "Epoch [57] f(x) = 0.004301\n",
      "Epoch [58] f(x) = 0.004195\n",
      "Epoch [59] f(x) = 0.004092\n",
      "Epoch [60] f(x) = 0.003991\n",
      "Epoch [61] f(x) = 0.003891\n",
      "Epoch [62] f(x) = 0.003794\n",
      "Epoch [63] f(x) = 0.003699\n",
      "Epoch [64] f(x) = 0.003606\n",
      "Epoch [65] f(x) = 0.003514\n",
      "Epoch [66] f(x) = 0.003425\n",
      "Epoch [67] f(x) = 0.003337\n",
      "Epoch [68] f(x) = 0.003252\n",
      "Epoch [69] f(x) = 0.003168\n",
      "Epoch [70] f(x) = 0.003086\n",
      "Epoch [71] f(x) = 0.003005\n",
      "Epoch [72] f(x) = 0.002927\n",
      "Epoch [73] f(x) = 0.002850\n",
      "Epoch [74] f(x) = 0.002775\n",
      "Epoch [75] f(x) = 0.002701\n",
      "Epoch [76] f(x) = 0.002629\n",
      "Epoch [77] f(x) = 0.002559\n",
      "Epoch [78] f(x) = 0.002490\n",
      "Epoch [79] f(x) = 0.002423\n",
      "Epoch [80] f(x) = 0.002357\n",
      "Epoch [81] f(x) = 0.002293\n",
      "Epoch [82] f(x) = 0.002230\n",
      "Epoch [83] f(x) = 0.002168\n",
      "Epoch [84] f(x) = 0.002108\n",
      "Epoch [85] f(x) = 0.002050\n",
      "Epoch [86] f(x) = 0.001993\n",
      "Epoch [87] f(x) = 0.001937\n",
      "Epoch [88] f(x) = 0.001882\n",
      "Epoch [89] f(x) = 0.001829\n",
      "Epoch [90] f(x) = 0.001777\n",
      "Epoch [91] f(x) = 0.001726\n",
      "Epoch [92] f(x) = 0.001677\n",
      "Epoch [93] f(x) = 0.001628\n",
      "Epoch [94] f(x) = 0.001581\n",
      "Epoch [95] f(x) = 0.001535\n",
      "Epoch [96] f(x) = 0.001490\n",
      "Epoch [97] f(x) = 0.001447\n",
      "Epoch [98] f(x) = 0.001404\n",
      "Epoch [99] f(x) = 0.001362\n",
      "Epoch [100] f(x) = 0.001322\n",
      "Epoch [101] f(x) = 0.001282\n",
      "Epoch [102] f(x) = 0.001244\n",
      "Epoch [103] f(x) = 0.001206\n",
      "Epoch [104] f(x) = 0.001170\n",
      "Epoch [105] f(x) = 0.001134\n",
      "Epoch [106] f(x) = 0.001100\n",
      "Epoch [107] f(x) = 0.001066\n",
      "Epoch [108] f(x) = 0.001033\n",
      "Epoch [109] f(x) = 0.001001\n",
      "Epoch [110] f(x) = 0.000970\n",
      "------\n",
      "5.712661504745483\n"
     ]
    }
   ],
   "source": [
    "tic = time.time()\n",
    "_, f, xx_st_001 = adam(F03, 2000, 1e-3)\n",
    "toc = time.time()\n",
    "print(toc - tic)"
   ]
  },
  {
   "cell_type": "markdown",
   "id": "b66d3266-e892-4009-b814-0575fa6d513c",
   "metadata": {
    "id": "VMHAbtMRGLLE"
   },
   "source": [
    "# plotting"
   ]
  },
  {
   "cell_type": "code",
   "execution_count": 22,
   "id": "8f76268c-7b20-4094-9bc7-93f726979c20",
   "metadata": {
    "id": "A2fWvV4tua7o"
   },
   "outputs": [
    {
     "data": {
      "image/png": "[encoded data removed]",
      "text/plain": [
       "<Figure size 640x480 with 1 Axes>"
      ]
     },
     "metadata": {},
     "output_type": "display_data"
    }
   ],
   "source": [
    "plt.style.use('default')\n",
    "plt.plot(fXX, 'r', label = 'FINDER')\n",
    "plt.plot(fx_st,'b', label = 'Adam')\n",
    "plt.yscale('log')\n",
    "plt.legend()\n",
    "plt.xlabel(\"number of iterations\")\n",
    "plt.ylabel(\"log(f(x)\")\n",
    "plt.yticks([0.001, 0.01])\n",
    "plt.grid()\n",
    "plt.show()"
   ]
  }
 ],
 "metadata": {
  "kernelspec": {
   "display_name": "Python 3 (ipykernel)",
   "language": "python",
   "name": "python3"
  },
  "language_info": {
   "codemirror_mode": {
    "name": "ipython",
    "version": 3
   },
   "file_extension": ".py",
   "mimetype": "text/x-python",
   "name": "python",
   "nbconvert_exporter": "python",
   "pygments_lexer": "ipython3",
   "version": "3.10.12"
  }
 },
 "nbformat": 4,
 "nbformat_minor": 5
}
