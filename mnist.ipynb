{
 "cells": [
  {
   "cell_type": "markdown",
   "id": "d12a7a08-9ff0-4ca3-b240-a4433958c312",
   "metadata": {},
   "source": [
    "## imports"
   ]
  },
  {
   "cell_type": "code",
   "execution_count": 1,
   "id": "f9cb5650-b5dd-4d3c-a45e-d5c19e8898de",
   "metadata": {},
   "outputs": [
    {
     "name": "stdout",
     "output_type": "stream",
     "text": [
      "Using cuda device for FINDER\n"
     ]
    }
   ],
   "source": [
    "import torch\n",
    "import torchvision\n",
    "import torchvision.transforms as transforms\n",
    "import torch.nn as nn\n",
    "import torch.optim as optim\n",
    "import math\n",
    "import torch.nn.functional as F\n",
    "import pickle\n",
    "import time\n",
    "import matplotlib.pyplot as plt\n",
    "import FINDER_core"
   ]
  },
  {
   "cell_type": "code",
   "execution_count": 2,
   "id": "23a8601b-09ae-45f7-a811-51c8d892e009",
   "metadata": {},
   "outputs": [
    {
     "name": "stdout",
     "output_type": "stream",
     "text": [
      "Using cuda device\n"
     ]
    }
   ],
   "source": [
    "device = (\"cuda\" if torch.cuda.is_available() else \"cpu\")\n",
    "print(f\"Using {device} device\")"
   ]
  },
  {
   "cell_type": "markdown",
   "id": "58634d2c-90b9-45d4-a078-da3d96b6dbdc",
   "metadata": {},
   "source": [
    "## dataset"
   ]
  },
  {
   "cell_type": "code",
   "execution_count": 3,
   "id": "db4859b2-b51f-4c25-b949-64d91782cf0e",
   "metadata": {},
   "outputs": [],
   "source": [
    "# Define transformation for input data\n",
    "transform = transforms.Compose([\n",
    "    transforms.ToTensor(),  # Convert PIL image to tensor\n",
    "    transforms.Normalize((0.1307,), (0.3081,))  # Normalize the image data\n",
    "])"
   ]
  },
  {
   "cell_type": "code",
   "execution_count": 4,
   "id": "7a6cb6af-fce9-4cdc-ba66-cd2d68f4c120",
   "metadata": {
    "scrolled": true
   },
   "outputs": [],
   "source": [
    "# Download MNIST dataset\n",
    "train_dataset = torchvision.datasets.MNIST(root='./data', train=True, transform=transform, download=True)\n",
    "test_dataset = torchvision.datasets.MNIST(root='./data', train=False, transform=transform, download=True)"
   ]
  },
  {
   "cell_type": "code",
   "execution_count": 5,
   "id": "c1e1ded7-3c84-4b9e-8fe2-00d441e8953a",
   "metadata": {},
   "outputs": [],
   "source": [
    "# Define data loaders\n",
    "batch_size = len(train_dataset)\n",
    "\n",
    "# Define data loaders with full batch size\n",
    "train_loader = torch.utils.data.DataLoader(train_dataset, batch_size=batch_size, shuffle=True)\n",
    "test_loader = torch.utils.data.DataLoader(test_dataset, batch_size=batch_size, shuffle=False)"
   ]
  },
  {
   "cell_type": "markdown",
   "id": "f557d3ff-b765-40ed-8d65-2999565770b3",
   "metadata": {},
   "source": [
    "## FNN class"
   ]
  },
  {
   "cell_type": "code",
   "execution_count": 6,
   "id": "32ca383b-7484-4ffa-b541-a7474cd12a78",
   "metadata": {},
   "outputs": [],
   "source": [
    "class FNN(nn.Module):\n",
    "    def __init__(self):\n",
    "        super(FNN, self).__init__()\n",
    "        self.fc1 = nn.Linear(28 * 28, 512)\n",
    "        self.fc2 = nn.Linear(512, 256)\n",
    "        self.fc3 = nn.Linear(256, 128)\n",
    "        self.fc4 = nn.Linear(128, 64)\n",
    "        self.fc5 = nn.Linear(64, 10)\n",
    "\n",
    "    def forward(self, x):\n",
    "        x = x.view(-1, 28 * 28)  # Flatten the input image\n",
    "        x = torch.relu(self.fc1(x))\n",
    "        x = torch.relu(self.fc2(x))\n",
    "        x = torch.relu(self.fc3(x))\n",
    "        x = torch.relu(self.fc4(x))\n",
    "        x = self.fc5(x)\n",
    "        return x\n",
    "\n",
    "    def loss_grad(self, param, inputs, labels, no_grad = False):\n",
    "        inputs = inputs.to(device)\n",
    "        labels = labels.to(device)\n",
    "        '''\n",
    "        zeroeing gradients\n",
    "        '''\n",
    "        torch.nn.utils.vector_to_parameters(param, self.parameters())\n",
    "        self.zero_grad(set_to_none=True)\n",
    "        \n",
    "        '''\n",
    "        loss and grads\n",
    "        '''\n",
    "        outputs = model(inputs)\n",
    "\n",
    "        if no_grad == False:\n",
    "            ls = criterion(outputs, labels)\n",
    "            ls.backward()\n",
    "            grads = torch.cat([param.grad.data.view(-1) for param in self.parameters()], dim=0)\n",
    "            return ls.item(), grads\n",
    "            \n",
    "        else:\n",
    "            with torch.no_grad():\n",
    "                ls = criterion(outputs, labels)\n",
    "                return ls.item()"
   ]
  },
  {
   "cell_type": "markdown",
   "id": "bd456f3e-ff9c-438c-9ab5-f5e227355105",
   "metadata": {},
   "source": [
    "## create model and loss criteria"
   ]
  },
  {
   "cell_type": "code",
   "execution_count": 7,
   "id": "a839d7af-e231-4773-b7ff-ab6beafbad95",
   "metadata": {},
   "outputs": [],
   "source": [
    "model = FNN().to(device)\n",
    "start = torch.nn.utils.parameters_to_vector(model.parameters())\n",
    "criterion = nn.CrossEntropyLoss()\n"
   ]
  },
  {
   "cell_type": "code",
   "execution_count": 8,
   "id": "a7a29909-8655-4a44-aac5-8b95a37c80aa",
   "metadata": {},
   "outputs": [],
   "source": [
    "optimizer = FINDER_core.FINDER(model)"
   ]
  },
  {
   "cell_type": "markdown",
   "id": "d692931c-47a9-42d0-b3a8-94becb187275",
   "metadata": {},
   "source": [
    "## training loop"
   ]
  },
  {
   "cell_type": "code",
   "execution_count": 9,
   "id": "e52f6943-2858-4a8f-bd79-aa2bd6226a09",
   "metadata": {},
   "outputs": [
    {
     "data": {
      "text/plain": [
       "575050"
      ]
     },
     "execution_count": 9,
     "metadata": {},
     "output_type": "execute_result"
    }
   ],
   "source": [
    "len(start)"
   ]
  },
  {
   "cell_type": "code",
   "execution_count": 10,
   "id": "3cc28e88-852d-46fc-802a-ace2c3b3d716",
   "metadata": {},
   "outputs": [
    {
     "name": "stdout",
     "output_type": "stream",
     "text": [
      "Epoch [1] loss: 2.273274\n",
      "Epoch [2] loss: 2.211229\n",
      "Epoch [3] loss: 1.807832\n",
      "Epoch [4] loss: 1.602540\n",
      "Epoch [5] loss: 1.410159\n",
      "Epoch [6] loss: 1.397610\n",
      "Epoch [7] loss: 0.844113\n",
      "Epoch [8] loss: 0.836775\n",
      "Epoch [9] loss: 0.820736\n",
      "Epoch [10] loss: 0.749528\n",
      "Epoch [11] loss: 0.735693\n",
      "Epoch [12] loss: 0.708276\n",
      "Epoch [13] loss: 0.630017\n",
      "Epoch [14] loss: 0.622146\n",
      "Epoch [15] loss: 0.589133\n",
      "Epoch [16] loss: 0.572277\n",
      "Epoch [17] loss: 0.554945\n",
      "Epoch [18] loss: 0.548975\n",
      "Epoch [19] loss: 0.542607\n",
      "Epoch [20] loss: 0.472938\n",
      "Epoch [21] loss: 0.464438\n",
      "Epoch [22] loss: 0.455697\n",
      "Epoch [23] loss: 0.437523\n",
      "Epoch [24] loss: 0.421712\n",
      "Epoch [25] loss: 0.411343\n",
      "Epoch [26] loss: 0.386193\n",
      "Epoch [27] loss: 0.377867\n",
      "Epoch [28] loss: 0.370148\n",
      "Epoch [29] loss: 0.348868\n",
      "Epoch [30] loss: 0.337197\n",
      "Epoch [31] loss: 0.320886\n",
      "Epoch [32] loss: 0.311563\n",
      "Epoch [33] loss: 0.302540\n",
      "Epoch [34] loss: 0.280505\n",
      "Epoch [35] loss: 0.274636\n",
      "Epoch [36] loss: 0.253208\n",
      "Epoch [37] loss: 0.249024\n",
      "Epoch [38] loss: 0.243716\n",
      "Epoch [39] loss: 0.227993\n",
      "Epoch [40] loss: 0.209532\n",
      "Epoch [41] loss: 0.200082\n",
      "Epoch [42] loss: 0.199193\n",
      "Epoch [43] loss: 0.181735\n",
      "Epoch [44] loss: 0.174455\n",
      "Epoch [45] loss: 0.167882\n",
      "Epoch [46] loss: 0.154828\n",
      "Epoch [47] loss: 0.145590\n",
      "Epoch [48] loss: 0.143417\n",
      "Epoch [49] loss: 0.138231\n",
      "Epoch [50] loss: 0.129639\n",
      "Epoch [51] loss: 0.122870\n",
      "Epoch [52] loss: 0.117029\n",
      "Epoch [53] loss: 0.109905\n",
      "Epoch [54] loss: 0.102506\n",
      "Epoch [55] loss: 0.097721\n",
      "Epoch [56] loss: 0.092905\n",
      "Epoch [57] loss: 0.085398\n",
      "Epoch [58] loss: 0.082409\n",
      "Epoch [59] loss: 0.077070\n",
      "Epoch [60] loss: 0.073611\n",
      "Epoch [61] loss: 0.068672\n",
      "Epoch [62] loss: 0.065561\n",
      "Epoch [63] loss: 0.062943\n",
      "Epoch [64] loss: 0.057714\n",
      "Epoch [65] loss: 0.055228\n",
      "Epoch [66] loss: 0.051005\n",
      "Epoch [67] loss: 0.048874\n",
      "Epoch [68] loss: 0.047034\n",
      "Epoch [69] loss: 0.045151\n",
      "Epoch [70] loss: 0.040056\n",
      "Epoch [71] loss: 0.039861\n",
      "Epoch [72] loss: 0.038862\n",
      "Epoch [73] loss: 0.036065\n",
      "Epoch [74] loss: 0.034730\n",
      "Epoch [75] loss: 0.032900\n",
      "Epoch [76] loss: 0.030710\n",
      "Epoch [77] loss: 0.028582\n",
      "Epoch [78] loss: 0.027095\n",
      "Epoch [79] loss: 0.025984\n",
      "Epoch [80] loss: 0.023792\n",
      "Epoch [81] loss: 0.021848\n",
      "Epoch [82] loss: 0.020736\n",
      "Epoch [83] loss: 0.019995\n",
      "Epoch [84] loss: 0.017690\n",
      "Epoch [85] loss: 0.017635\n",
      "Epoch [86] loss: 0.016516\n",
      "Epoch [87] loss: 0.016347\n",
      "Epoch [88] loss: 0.014652\n",
      "Epoch [89] loss: 0.013819\n",
      "Epoch [90] loss: 0.012489\n",
      "Epoch [91] loss: 0.011767\n",
      "Epoch [92] loss: 0.011344\n",
      "Epoch [93] loss: 0.009852\n",
      "Epoch [94] loss: 0.009597\n",
      "Epoch [95] loss: 0.008950\n",
      "Epoch [96] loss: 0.008121\n",
      "Epoch [97] loss: 0.008058\n",
      "Epoch [98] loss: 0.006983\n",
      "Epoch [99] loss: 0.006711\n",
      "Epoch [100] loss: 0.006517\n",
      "finished training in 847.7190940380096 seconds\n"
     ]
    }
   ],
   "source": [
    "tic = time.time()\n",
    "fX_mnist_FINDER = []\n",
    "for epoch in range(100):  # loop over the dataset multiple times\n",
    "    model.train()\n",
    "    running_loss = 0.0\n",
    "    total = 0.0    \n",
    "    for i, data in enumerate(train_loader, 0):\n",
    "        inputs, labels = data\n",
    "        min_fitness = optimizer.step(inputs, labels)\n",
    "\n",
    "        running_loss += min_fitness * inputs.size(0)\n",
    "    running_loss /= len(train_dataset)\n",
    "    fX_mnist_FINDER.append(running_loss)\n",
    "    print('Epoch [%d] loss: %.6f' %\n",
    "          (epoch + 1, running_loss))\n",
    "toc = time.time()\n",
    "print(\"finished training in\", toc - tic, \"seconds\")"
   ]
  },
  {
   "cell_type": "markdown",
   "id": "b72086d8-8c60-4780-9349-d0e1e3498856",
   "metadata": {},
   "source": [
    "## testing accuracy"
   ]
  },
  {
   "cell_type": "code",
   "execution_count": 11,
   "id": "0af276c6-bf1e-4a76-86b7-0f1894f9fbbe",
   "metadata": {},
   "outputs": [
    {
     "name": "stdout",
     "output_type": "stream",
     "text": [
      "Accuracy on test set: 97.91 %\n"
     ]
    }
   ],
   "source": [
    "model.eval()  # Set the model to evaluation mode\n",
    "correct = 0\n",
    "total = 0\n",
    "with torch.no_grad():\n",
    "    for inputs, labels in test_loader:\n",
    "        inputs = inputs.to(device)\n",
    "        labels = labels.to(device)\n",
    "        outputs = model(inputs)\n",
    "        _, predicted = torch.max(outputs, 1)\n",
    "        total += labels.size(0)\n",
    "        correct += (predicted == labels).sum().item()\n",
    "\n",
    "print(f\"Accuracy on test set: {correct / total * 100} %\")"
   ]
  },
  {
   "cell_type": "code",
   "execution_count": 12,
   "id": "342a5fc0-09bf-4a2b-bd2b-bbd417f9b0c6",
   "metadata": {},
   "outputs": [
    {
     "name": "stdout",
     "output_type": "stream",
     "text": [
      "Accuracy on train set: 99.89833333333334 %\n"
     ]
    }
   ],
   "source": [
    "model.eval()  # Set the model to evaluation mode\n",
    "correct = 0\n",
    "total = 0\n",
    "with torch.no_grad():\n",
    "    for inputs, labels in train_loader:\n",
    "        inputs = inputs.to(device)\n",
    "        labels = labels.to(device)\n",
    "        outputs = model(inputs)\n",
    "        _, predicted = torch.max(outputs, 1)\n",
    "        total += labels.size(0)\n",
    "        correct += (predicted == labels).sum().item()\n",
    "\n",
    "print(f\"Accuracy on train set: {correct / total * 100} %\")"
   ]
  },
  {
   "cell_type": "code",
   "execution_count": 13,
   "id": "12db701c-d52a-4467-85a3-4cad3f51946f",
   "metadata": {},
   "outputs": [],
   "source": [
    "torch.save(fX_mnist_FINDER, 'mnist_optim_fx_N575050_fullbatch.pt')"
   ]
  },
  {
   "cell_type": "markdown",
   "id": "d8227264-8f75-4700-a524-30b860a851f8",
   "metadata": {},
   "source": [
    "# adam"
   ]
  },
  {
   "cell_type": "code",
   "execution_count": 14,
   "id": "7f0d0c60-d0df-473d-b6a1-b32d5022bebe",
   "metadata": {
    "scrolled": true
   },
   "outputs": [
    {
     "name": "stdout",
     "output_type": "stream",
     "text": [
      "Epoch [1] loss: 2.309211\n",
      "Epoch [2] loss: 2.283740\n",
      "Epoch [3] loss: 2.250462\n",
      "Epoch [4] loss: 2.198483\n",
      "Epoch [5] loss: 2.119750\n",
      "Epoch [6] loss: 2.009960\n",
      "Epoch [7] loss: 1.871532\n",
      "Epoch [8] loss: 1.711447\n",
      "Epoch [9] loss: 1.531711\n",
      "Epoch [10] loss: 1.341251\n",
      "Epoch [11] loss: 1.151588\n",
      "Epoch [12] loss: 0.978668\n",
      "Epoch [13] loss: 0.854525\n",
      "Epoch [14] loss: 0.839317\n",
      "Epoch [15] loss: 0.779157\n",
      "Epoch [16] loss: 0.707325\n",
      "Epoch [17] loss: 0.650895\n",
      "Epoch [18] loss: 0.629215\n",
      "Epoch [19] loss: 0.573686\n",
      "Epoch [20] loss: 0.581501\n",
      "Epoch [21] loss: 0.531450\n",
      "Epoch [22] loss: 0.520111\n",
      "Epoch [23] loss: 0.503338\n",
      "Epoch [24] loss: 0.481905\n",
      "Epoch [25] loss: 0.469859\n",
      "Epoch [26] loss: 0.455392\n",
      "Epoch [27] loss: 0.445272\n",
      "Epoch [28] loss: 0.423514\n",
      "Epoch [29] loss: 0.421549\n",
      "Epoch [30] loss: 0.411802\n",
      "Epoch [31] loss: 0.391042\n",
      "Epoch [32] loss: 0.388431\n",
      "Epoch [33] loss: 0.383061\n",
      "Epoch [34] loss: 0.367062\n",
      "Epoch [35] loss: 0.362396\n",
      "Epoch [36] loss: 0.356672\n",
      "Epoch [37] loss: 0.346328\n",
      "Epoch [38] loss: 0.342031\n",
      "Epoch [39] loss: 0.335845\n",
      "Epoch [40] loss: 0.327412\n",
      "Epoch [41] loss: 0.323001\n",
      "Epoch [42] loss: 0.317605\n",
      "Epoch [43] loss: 0.310845\n",
      "Epoch [44] loss: 0.305501\n",
      "Epoch [45] loss: 0.300986\n",
      "Epoch [46] loss: 0.295644\n",
      "Epoch [47] loss: 0.290269\n",
      "Epoch [48] loss: 0.285926\n",
      "Epoch [49] loss: 0.281826\n",
      "Epoch [50] loss: 0.276749\n",
      "Epoch [51] loss: 0.272681\n",
      "Epoch [52] loss: 0.269020\n",
      "Epoch [53] loss: 0.264434\n",
      "Epoch [54] loss: 0.260753\n",
      "Epoch [55] loss: 0.257266\n",
      "Epoch [56] loss: 0.253102\n",
      "Epoch [57] loss: 0.249734\n",
      "Epoch [58] loss: 0.246420\n",
      "Epoch [59] loss: 0.242642\n",
      "Epoch [60] loss: 0.239265\n",
      "Epoch [61] loss: 0.236205\n",
      "Epoch [62] loss: 0.232850\n",
      "Epoch [63] loss: 0.229349\n",
      "Epoch [64] loss: 0.226430\n",
      "Epoch [65] loss: 0.223435\n",
      "Epoch [66] loss: 0.220073\n",
      "Epoch [67] loss: 0.217170\n",
      "Epoch [68] loss: 0.214305\n",
      "Epoch [69] loss: 0.211274\n",
      "Epoch [70] loss: 0.208410\n",
      "Epoch [71] loss: 0.205610\n",
      "Epoch [72] loss: 0.202820\n",
      "Epoch [73] loss: 0.200059\n",
      "Epoch [74] loss: 0.197422\n",
      "Epoch [75] loss: 0.194730\n",
      "Epoch [76] loss: 0.192154\n",
      "Epoch [77] loss: 0.189642\n",
      "Epoch [78] loss: 0.187085\n",
      "Epoch [79] loss: 0.184649\n",
      "Epoch [80] loss: 0.182240\n",
      "Epoch [81] loss: 0.179841\n",
      "Epoch [82] loss: 0.177491\n",
      "Epoch [83] loss: 0.175215\n",
      "Epoch [84] loss: 0.172914\n",
      "Epoch [85] loss: 0.170689\n",
      "Epoch [86] loss: 0.168490\n",
      "Epoch [87] loss: 0.166304\n",
      "Epoch [88] loss: 0.164177\n",
      "Epoch [89] loss: 0.162065\n",
      "Epoch [90] loss: 0.159968\n",
      "Epoch [91] loss: 0.157925\n",
      "Epoch [92] loss: 0.155900\n",
      "Epoch [93] loss: 0.153895\n",
      "Epoch [94] loss: 0.151938\n",
      "Epoch [95] loss: 0.149995\n",
      "Epoch [96] loss: 0.148078\n",
      "Epoch [97] loss: 0.146190\n",
      "Epoch [98] loss: 0.144314\n",
      "Epoch [99] loss: 0.142455\n",
      "Epoch [100] loss: 0.140632\n",
      "\n",
      "finished training with Adam in  708.4186515808105  seconds\n",
      "\n",
      "Accuracy on test set: 95.6\n",
      "Accuracy on train set: 95.94\n"
     ]
    }
   ],
   "source": [
    "class FNN(nn.Module):\n",
    "    def __init__(self):\n",
    "        super(FNN, self).__init__()\n",
    "        self.fc1 = nn.Linear(28 * 28, 512)\n",
    "        self.fc2 = nn.Linear(512, 256)\n",
    "        self.fc3 = nn.Linear(256, 128)\n",
    "        self.fc4 = nn.Linear(128, 64)\n",
    "        self.fc5 = nn.Linear(64, 10)\n",
    "\n",
    "    def forward(self, x):\n",
    "        x = x.view(-1, 28 * 28)  # Flatten the input image\n",
    "        x = torch.relu(self.fc1(x))\n",
    "        x = torch.relu(self.fc2(x))\n",
    "        x = torch.relu(self.fc3(x))\n",
    "        x = torch.relu(self.fc4(x))\n",
    "        x = self.fc5(x)\n",
    "        return x\n",
    "\n",
    "# Initialize the model, loss function, and optimizer\n",
    "model_adam = FNN().to(device)\n",
    "torch.nn.utils.vector_to_parameters(start, model_adam.parameters()) #to set same starting point for Adam\n",
    "criterion = nn.CrossEntropyLoss()\n",
    "optimizer = optim.Adam(model_adam.parameters(), lr=0.001)\n",
    "fX_adam_mnist = []\n",
    "# Train the model\n",
    "num_epochs = 100\n",
    "tic = time.time()\n",
    "for epoch in range(num_epochs):\n",
    "    model_adam.train()  # Set the model to train mode\n",
    "    running_loss = 0.0\n",
    "    for i, (inputs, labels) in enumerate(train_loader):\n",
    "        inputs = inputs.to(device)\n",
    "        labels = labels.to(device)\n",
    "        optimizer.zero_grad()  # Zero the parameter gradients\n",
    "        outputs = model_adam(inputs)  # Forward pass\n",
    "        loss = criterion(outputs, labels)  # Compute the loss\n",
    "        loss.backward()  # Backward pass\n",
    "        optimizer.step()  # Optimize\n",
    "        running_loss += loss.item() * inputs.size(0)\n",
    "    print('Epoch [%d] loss: %.6f' %\n",
    "      (epoch + 1, running_loss/len(train_dataset)))\n",
    "\n",
    "    fX_adam_mnist.append(running_loss/ len(train_dataset))\n",
    "toc = time.time()\n",
    "print(\"\\nfinished training with Adam in \",toc-tic,\" seconds\\n\")\n",
    "# Test the model\n",
    "model_adam.eval()  # Set the model to evaluation mode\n",
    "correct = 0\n",
    "total = 0\n",
    "with torch.no_grad():\n",
    "    for inputs, labels in test_loader:\n",
    "        inputs = inputs.to(device)\n",
    "        labels = labels.to(device)\n",
    "        outputs = model_adam(inputs)\n",
    "        _, predicted = torch.max(outputs, 1)\n",
    "        total += labels.size(0)\n",
    "        correct += (predicted == labels).sum().item()\n",
    "\n",
    "print(f\"Accuracy on test set: {correct / total * 100}\")\n",
    "\n",
    "model_adam.eval()  # Set the model to evaluation mode\n",
    "correct = 0\n",
    "total = 0\n",
    "with torch.no_grad():\n",
    "    for inputs, labels in train_loader:\n",
    "        inputs = inputs.to(device)\n",
    "        labels = labels.to(device)\n",
    "        outputs = model_adam(inputs)\n",
    "        _, predicted = torch.max(outputs, 1)\n",
    "        total += labels.size(0)\n",
    "        correct += (predicted == labels).sum().item()\n",
    "\n",
    "print(f\"Accuracy on train set: {correct / total*100}\")"
   ]
  },
  {
   "cell_type": "code",
   "execution_count": 15,
   "id": "69318eba-ca1f-4462-957f-f76996b309e0",
   "metadata": {},
   "outputs": [],
   "source": [
    "torch.save(fX_adam_mnist, 'mnist_adam_fx_N575050_fullbatch.pt')"
   ]
  },
  {
   "cell_type": "markdown",
   "id": "ce074052-a4f9-43d3-84ef-81956ebc72ad",
   "metadata": {},
   "source": [
    "# plotting"
   ]
  },
  {
   "cell_type": "code",
   "execution_count": 16,
   "id": "8afe6672-bfd5-4f75-8738-bf74fa249e43",
   "metadata": {},
   "outputs": [
    {
     "data": {
      "image/png": "[encoded data removed]",
      "text/plain": [
       "<Figure size 640x480 with 1 Axes>"
      ]
     },
     "metadata": {},
     "output_type": "display_data"
    }
   ],
   "source": [
    "import matplotlib.pyplot as plt\n",
    "plt.plot(fX_mnist_FINDER,'r', label = 'FINDER')\n",
    "plt.plot(fX_adam_mnist,'b', label='Adam')\n",
    "plt.xlabel('number of epochs')\n",
    "plt.ylabel('log(f(x))')\n",
    "plt.yscale('log')\n",
    "plt.legend()\n",
    "plt.grid()\n",
    "plt.show()"
   ]
  },
  {
   "cell_type": "code",
   "execution_count": null,
   "id": "2f8125fc-4bb1-4d20-8bfc-3b90a1a73da9",
   "metadata": {},
   "outputs": [],
   "source": []
  }
 ],
 "metadata": {
  "kernelspec": {
   "display_name": "Python 3 (ipykernel)",
   "language": "python",
   "name": "python3"
  },
  "language_info": {
   "codemirror_mode": {
    "name": "ipython",
    "version": 3
   },
   "file_extension": ".py",
   "mimetype": "text/x-python",
   "name": "python",
   "nbconvert_exporter": "python",
   "pygments_lexer": "ipython3",
   "version": "3.12.3"
  }
 },
 "nbformat": 4,
 "nbformat_minor": 5
}
